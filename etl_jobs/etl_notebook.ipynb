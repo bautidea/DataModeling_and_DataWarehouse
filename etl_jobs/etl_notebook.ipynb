{
 "cells": [
  {
   "cell_type": "code",
   "execution_count": 1,
   "metadata": {},
   "outputs": [],
   "source": [
    "import psycopg2"
   ]
  },
  {
   "cell_type": "markdown",
   "metadata": {},
   "source": [
    "After performing some queries and multiple joins we are going to transform the ERD schema (Entity Relationship Diagram) into a star schema, in order to simplify data analysis"
   ]
  },
  {
   "cell_type": "markdown",
   "metadata": {},
   "source": [
    "<img src='./img/erd_schema.png' width=40% height = 30%> <img src='./img/dvd_star_schema.png' width=40% height = 30%>"
   ]
  },
  {
   "cell_type": "markdown",
   "metadata": {},
   "source": [
    "After creatin de schema we procede to create the tables in the dvd database."
   ]
  },
  {
   "cell_type": "code",
   "execution_count": 3,
   "metadata": {},
   "outputs": [],
   "source": [
    "conn = psycopg2.connect('host=localhost dbname=dvdrental user=postgres password=root')\n",
    "conn.set_session(autocommit=True)\n",
    "\n",
    "cur = conn.cursor()"
   ]
  },
  {
   "cell_type": "code",
   "execution_count": 7,
   "metadata": {},
   "outputs": [],
   "source": [
    "# We are going to create the tables from the star_schema.\n",
    "dimcustomer_create = ('''\n",
    "                      CREATE TABLE IF NOT EXISTS dimcustomer(\n",
    "                        customer_key SERIAL PRIMARY KEY,\n",
    "                        customer_id INT NOT NULL,\n",
    "                        fist_name VARCHAR NOT NULL,\n",
    "                        last_name VARCHAR NOT NULL,\n",
    "                        email VARCHAR,\n",
    "                        adress VARCHAR NOT NULL,\n",
    "                        adress2 VARCHAR,\n",
    "                        phone VARCHAR,\n",
    "                        city VARCHAR  NOT NULL,\n",
    "                        district VARCHAR NOT NULL,\n",
    "                        postal_code VARCHAR,\n",
    "                        country VARCHAR NOT NULL,\n",
    "                        create_date DATE NOT NULL,\n",
    "                        active INT NOT NULL                        \n",
    "                    )''')\n",
    "cur.execute(dimcustomer_create)"
   ]
  },
  {
   "cell_type": "code",
   "execution_count": 9,
   "metadata": {},
   "outputs": [],
   "source": [
    "dimfilm_create = ('''\n",
    "                  CREATE TABLE IF NOT EXISTS dimfilm(\n",
    "                    film_key SERIAL PRIMARY KEY,\n",
    "                    film_id INT NOT NULL,\n",
    "                    title VARCHAR NOT NULL,\n",
    "                    description TEXT,\n",
    "                    release_year YEAR,\n",
    "                    language VARCHAR NOT NULL,\n",
    "                    lengt INT,\n",
    "                    rating INT NOT NULL,\n",
    "                    category VARCHAR NOT NULL,\n",
    "                    rental_rate VARCHAR NOT NULL,\n",
    "                    rental_duration INT NOT NULL,\n",
    "                    special_features VARCHAR NOT NULL                   \n",
    "                )''')\n",
    "cur.execute(dimfilm_create)\n",
    "                  "
   ]
  },
  {
   "cell_type": "code",
   "execution_count": 11,
   "metadata": {},
   "outputs": [],
   "source": [
    "dimstaff_create = ('''\n",
    "                   CREATE TABLE IF NOT EXISTS dimstaff (\n",
    "                       staff_key SERIAL PRIMARY KEY,\n",
    "                       staff_id  INT NOT NULL,\n",
    "                       first_name VARCHAR NOT NULL,\n",
    "                       last_name VARCHAR NOT NULL,\n",
    "                       address VARCHAR NOT NULL,\n",
    "                       address2 VARCHAR,\n",
    "                       district VARCHAR NOT NULL,\n",
    "                       city VARCHAR NOT NULL,\n",
    "                       posta_code VARCHAR,\n",
    "                       country VARCHAR NOT NULL,\n",
    "                       email VARCHAR,\n",
    "                       phone VARCHAR NOT NULL,\n",
    "                       working_store VARCHAR NOT NULL,\n",
    "                       ussername VARCHAR NOT NULL,\n",
    "                       password  VARCHAR NOT NULL             \n",
    "                )''')\n",
    "cur.execute(dimstaff_create)"
   ]
  },
  {
   "cell_type": "code",
   "execution_count": 12,
   "metadata": {},
   "outputs": [],
   "source": [
    "dimstore_create = ('''\n",
    "                    CREATE TABLE IF NOT EXISTS dimstore(\n",
    "                        store_key SERIAL PRIMARY KEY,\n",
    "                        store_id INT NOT NULL,\n",
    "                        manager_first_name VARCHAR NOT NULL,\n",
    "                        manager_last_name VARCHAR NOT NULL,\n",
    "                        adress VARCHAR NOT NULL,\n",
    "                        adress2 VARCHAR,\n",
    "                        district VARCHAR NOT NULL,\n",
    "                        city VARCHAR NOT NULL,\n",
    "                        posta_code VARCHAR NOT NULL,\n",
    "                        country VARCHAR NOT NULL,\n",
    "                        phone VARCHAR NOT NULL\n",
    "                )''')\n",
    "cur.execute(dimstore_create)"
   ]
  },
  {
   "cell_type": "code",
   "execution_count": 13,
   "metadata": {},
   "outputs": [],
   "source": [
    "dimactor_create = ('''\n",
    "                   CREATE TABLE IF NOT EXISTS dimactor(\n",
    "                       actor_key SERIAL PRIMARY KEY,\n",
    "                       actor_id INT NOT NULL,\n",
    "                       first_name VARCHAR NOT NULL,\n",
    "                       last_name VARCHAR NOT NULL \n",
    "                )''')\n",
    "cur.execute(dimactor_create)"
   ]
  },
  {
   "cell_type": "code",
   "execution_count": 14,
   "metadata": {},
   "outputs": [],
   "source": [
    "dimdate_create = ('''\n",
    "                  CREATE TABLE IF NOT EXISTS dimdate(\n",
    "                      date_key SERIAL PRIMARY KEY,\n",
    "                      payment_date DATE NOT NULL                      \n",
    "                )''')\n",
    "cur.execute(dimdate_create)"
   ]
  },
  {
   "cell_type": "code",
   "execution_count": 15,
   "metadata": {},
   "outputs": [],
   "source": [
    "dimrental_create = ('''\n",
    "                    CREATE TABLE IF NOT EXISTS dimrental(\n",
    "                        rental_key SERIAL PRIMARY KEY,\n",
    "                        rental_id INT NOT NULL,\n",
    "                        title VARCHAR NOT NULL,\n",
    "                        rental_date DATE NOT NULL,\n",
    "                        return_date DATE NOT NULL\n",
    "                )''')\n",
    "cur.execute(dimrental_create)"
   ]
  },
  {
   "cell_type": "code",
   "execution_count": null,
   "metadata": {},
   "outputs": [],
   "source": []
  }
 ],
 "metadata": {
  "kernelspec": {
   "display_name": "Python 3.8.13 ('dhdsblend2021')",
   "language": "python",
   "name": "python3"
  },
  "language_info": {
   "codemirror_mode": {
    "name": "ipython",
    "version": 3
   },
   "file_extension": ".py",
   "mimetype": "text/x-python",
   "name": "python",
   "nbconvert_exporter": "python",
   "pygments_lexer": "ipython3",
   "version": "3.8.13"
  },
  "orig_nbformat": 4,
  "vscode": {
   "interpreter": {
    "hash": "9689ec58c8207ae0e5df44f3c0da8809222a7a4816f0f8cce8ef27c7a9266816"
   }
  }
 },
 "nbformat": 4,
 "nbformat_minor": 2
}
