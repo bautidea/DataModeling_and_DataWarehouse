{
 "cells": [
  {
   "cell_type": "code",
   "execution_count": 192,
   "metadata": {},
   "outputs": [],
   "source": [
    "import psycopg2\n",
    "from psycopg2.errorcodes import UNIQUE_VIOLATION"
   ]
  },
  {
   "cell_type": "markdown",
   "metadata": {},
   "source": [
    "After performing some queries and multiple joins we are going to transform the ERD schema (Entity Relationship Diagram) into a star schema, in order to simplify data analysis"
   ]
  },
  {
   "cell_type": "markdown",
   "metadata": {},
   "source": [
    "<img src='./img/erd_schema.png' width=40% height = 30%> <img src='./img/dvd_star_schema.png' width=40% height = 30%>"
   ]
  },
  {
   "cell_type": "markdown",
   "metadata": {},
   "source": [
    "After creatin de schema we procede to create the tables in the dvd database."
   ]
  },
  {
   "cell_type": "code",
   "execution_count": 193,
   "metadata": {},
   "outputs": [],
   "source": [
    "conn = psycopg2.connect('host=localhost dbname=dvdrental user=postgres password=root')\n",
    "conn.set_session(autocommit=True)\n",
    "\n",
    "cur = conn.cursor()"
   ]
  },
  {
   "cell_type": "code",
   "execution_count": 194,
   "metadata": {},
   "outputs": [],
   "source": [
    "# We are going to create the tables from the star_schema.\n",
    "dimcustomer_create = ('''\n",
    "                      CREATE TABLE IF NOT EXISTS dimcustomer(\n",
    "                        customer_key SERIAL PRIMARY KEY,\n",
    "                        customer_id INT NOT NULL,\n",
    "                        fist_name VARCHAR NOT NULL,\n",
    "                        last_name VARCHAR NOT NULL,\n",
    "                        email VARCHAR,\n",
    "                        address VARCHAR NOT NULL,\n",
    "                        address2 VARCHAR,\n",
    "                        phone VARCHAR,\n",
    "                        city VARCHAR  NOT NULL,\n",
    "                        district VARCHAR NOT NULL,\n",
    "                        postal_code VARCHAR,\n",
    "                        country VARCHAR NOT NULL,\n",
    "                        create_date DATE NOT NULL,\n",
    "                        active INT NOT NULL                        \n",
    "                    )''')\n",
    "cur.execute(dimcustomer_create)"
   ]
  },
  {
   "cell_type": "code",
   "execution_count": 195,
   "metadata": {},
   "outputs": [],
   "source": [
    "dimfilm_create = ('''\n",
    "                  CREATE TABLE IF NOT EXISTS dimfilm(\n",
    "                    film_key SERIAL PRIMARY KEY,\n",
    "                    film_id INT NOT NULL,\n",
    "                    title VARCHAR NOT NULL,\n",
    "                    description TEXT,\n",
    "                    release_year YEAR,\n",
    "                    language VARCHAR NOT NULL,\n",
    "                    length INT,\n",
    "                    rating MPAA_RATING NOT NULL,\n",
    "                    category VARCHAR NOT NULL,\n",
    "                    rental_rate VARCHAR NOT NULL,\n",
    "                    rental_duration INT NOT NULL,\n",
    "                    special_features VARCHAR, \n",
    "                    actor_first_name VARCHAR,\n",
    "                    actor_last_name VARCHAR                  \n",
    "                )''')\n",
    "cur.execute(dimfilm_create)\n",
    "                  "
   ]
  },
  {
   "cell_type": "code",
   "execution_count": 196,
   "metadata": {},
   "outputs": [],
   "source": [
    "dimstaff_create = ('''\n",
    "                   CREATE TABLE IF NOT EXISTS dimstaff (\n",
    "                       staff_key SERIAL PRIMARY KEY,\n",
    "                       staff_id  INT NOT NULL,\n",
    "                       first_name VARCHAR NOT NULL,\n",
    "                       last_name VARCHAR NOT NULL,\n",
    "                       address VARCHAR NOT NULL,\n",
    "                       address2 VARCHAR,\n",
    "                       district VARCHAR NOT NULL,\n",
    "                       city VARCHAR NOT NULL,\n",
    "                       posta_code VARCHAR,\n",
    "                       country VARCHAR NOT NULL,\n",
    "                       email VARCHAR,\n",
    "                       phone VARCHAR NOT NULL,\n",
    "                       working_store VARCHAR NOT NULL,\n",
    "                       ussername VARCHAR NOT NULL,\n",
    "                       password  VARCHAR NOT NULL             \n",
    "                )''')\n",
    "cur.execute(dimstaff_create)"
   ]
  },
  {
   "cell_type": "code",
   "execution_count": 197,
   "metadata": {},
   "outputs": [],
   "source": [
    "dimstore_create = ('''\n",
    "                    CREATE TABLE IF NOT EXISTS dimstore(\n",
    "                        store_key SERIAL PRIMARY KEY,\n",
    "                        store_id INT NOT NULL,\n",
    "                        manager_first_name VARCHAR NOT NULL,\n",
    "                        manager_last_name VARCHAR NOT NULL,\n",
    "                        adress VARCHAR NOT NULL,\n",
    "                        adress2 VARCHAR,\n",
    "                        district VARCHAR NOT NULL,\n",
    "                        city VARCHAR NOT NULL,\n",
    "                        posta_code VARCHAR NOT NULL,\n",
    "                        country VARCHAR NOT NULL,\n",
    "                        phone VARCHAR NOT NULL\n",
    "                )''')\n",
    "cur.execute(dimstore_create)"
   ]
  },
  {
   "cell_type": "code",
   "execution_count": 198,
   "metadata": {},
   "outputs": [],
   "source": [
    "dimdate_create = ('''\n",
    "                  CREATE TABLE IF NOT EXISTS dimdate(\n",
    "                      date_key SERIAL PRIMARY KEY,\n",
    "                      payment_date DATE NOT NULL,\n",
    "                      year INT NOT NULL,\n",
    "                      month INT NOT NULL,\n",
    "                      day INT NOT NULL,\n",
    "                      week INT NOT NULL,\n",
    "                      is_weekend BOOLEAN                      \n",
    "                )''')\n",
    "cur.execute(dimdate_create)"
   ]
  },
  {
   "cell_type": "code",
   "execution_count": 199,
   "metadata": {},
   "outputs": [],
   "source": [
    "dimrental_create = ('''\n",
    "                    CREATE TABLE IF NOT EXISTS dimrental(\n",
    "                        rental_key SERIAL PRIMARY KEY,\n",
    "                        rental_id INT NOT NULL,\n",
    "                        title VARCHAR NOT NULL,\n",
    "                        rental_date DATE NOT NULL,\n",
    "                        return_date DATE\n",
    "                )''')\n",
    "cur.execute(dimrental_create)"
   ]
  },
  {
   "cell_type": "code",
   "execution_count": 200,
   "metadata": {},
   "outputs": [],
   "source": [
    "# Creating our fact table, wich will reference all my dimension tables\n",
    "factsales_create = ('''\n",
    "                    CREATE TABLE IF NOT EXISTS factsales(\n",
    "                      sales_key SERIAL PRIMARY KEY,\n",
    "                      customer_key INT REFERENCES dimcustomer (customer_key),\n",
    "                      store_key INT REFERENCES dimstore (store_key),\n",
    "                      staff_key INT REFERENCES dimstaff (staff_key),\n",
    "                      film_key INT REFERENCES dimfilm (film_key),\n",
    "                      date_key INT REFERENCES dimdate (date_key),\n",
    "                      rental_key INT REFERENCES dimrental (rental_key),\n",
    "                      sales_amount  NUMERIC,\n",
    "                      UNIQUE (customer_key, store_key, staff_key, film_key, date_key, rental_key)\n",
    "                )''')\n",
    "cur.execute(factsales_create)"
   ]
  },
  {
   "cell_type": "markdown",
   "metadata": {},
   "source": [
    "Now im going to instert data into the tables that i just created. For that im going to use pgAdmin4 to execute queries. Used queries are going to be written below, but they are not going to be executed by psycopg2 cursor."
   ]
  },
  {
   "cell_type": "code",
   "execution_count": 201,
   "metadata": {},
   "outputs": [
    {
     "name": "stdout",
     "output_type": "stream",
     "text": [
      "Error: Records you are trying to load are already in the table\n"
     ]
    }
   ],
   "source": [
    "try:\n",
    "\tdimdate_query = ('''INSERT INTO dimdate (date_key, payment_date, year, month, day, week, is_weekend)\n",
    "\t\t\t\t\t\tSELECT\n",
    "\t\t\t\t\t\t\tDISTINCT(TO_CHAR(payment_date :: DATE, 'yyyMMDD') :: INT),\n",
    "\t\t\t\t\t\t\tDATE(payment_date) as payment_date,\n",
    "\t\t\t\t\t\t\tEXTRACT(YEAR FROM payment_date) as year,\n",
    "\t\t\t\t\t\t\tEXTRACT(MONTH FROM payment_date) as MONTH,\n",
    "\t\t\t\t\t\t\tEXTRACT(DAY FROM payment_date) as DAY,\n",
    "\t\t\t\t\t\t\tEXTRACT(WEEK FROM payment_date) as week,\n",
    "\t\t\t\t\t\t\tCASE  \n",
    "\t\t\t\t\t\t\t\tWHEN EXTRACT(isodow FROM payment_date) = 6 THEN True\n",
    "\t\t\t\t\t\t\t\tWHEN EXTRACT(isodow FROM payment_date) = 7 THEN True\n",
    "\t\t\t\t\t\t\t\tELSE False\n",
    "\t\t\t\t\t\t\tEND\n",
    "\t\t\t\t\t\tFROM payment\n",
    "\t\t\t\t\t''')\n",
    "\tcur.execute(dimdate_query)\n",
    " \n",
    "except psycopg2.Error as e:\n",
    "    if psycopg2.errors.lookup(UNIQUE_VIOLATION):\n",
    "        print('Error: Records you are trying to load are already in the table') \n",
    "\n",
    "    else:\n",
    "        print('Error: Undefined error has happened')\n",
    "        print(e)"
   ]
  },
  {
   "cell_type": "code",
   "execution_count": 202,
   "metadata": {},
   "outputs": [
    {
     "name": "stdout",
     "output_type": "stream",
     "text": [
      "Error: Records you are trying to load are already in the table\n"
     ]
    }
   ],
   "source": [
    "try:\n",
    "    dimcustomer_query = ('''INSERT INTO dimcustomer (customer_key, customer_id, fist_name, last_name, \n",
    "                                                    email, address, address2, phone, city, district, \n",
    "                                                    postal_code, country, create_date, active)\n",
    "                            SELECT \n",
    "                                c.customer_id as customer_key,\n",
    "                                c.customer_id,\n",
    "                                c.first_name,\n",
    "                                c.last_name,\n",
    "                                c.email,\n",
    "                                a.address,\n",
    "                                a.address2,\n",
    "                                a.phone,\n",
    "                                cit.city,\n",
    "                                a.district,\n",
    "                                a.postal_code,\n",
    "                                coun.country,\n",
    "                                c.create_date,\n",
    "                                c.active\n",
    "                            FROM customer AS c\n",
    "                            INNER JOIN address AS a\n",
    "                                ON c.address_id = a.address_id\n",
    "                            INNER JOIN city as cit\n",
    "                                ON a.city_id = cit.city_id\n",
    "                            INNER JOIN country as coun\n",
    "                                ON cit.country_id = coun.country_id\n",
    "                        ''')\n",
    "    \n",
    "    cur.execute(dimcustomer_query)\n",
    " \n",
    "except psycopg2.Error as e:\n",
    "    if psycopg2.errors.lookup(UNIQUE_VIOLATION):\n",
    "        print('Error: Records you are trying to load are already in the table') \n",
    "\n",
    "    else:\n",
    "        print('Error: Undefined error has happened')\n",
    "        print(e)"
   ]
  },
  {
   "cell_type": "code",
   "execution_count": 203,
   "metadata": {},
   "outputs": [
    {
     "name": "stdout",
     "output_type": "stream",
     "text": [
      "Error: Records you are trying to load are already in the table\n"
     ]
    }
   ],
   "source": [
    "try:\n",
    "    dimstore_query = ('''INSERT INTO dimstore (store_key, store_id, manager_first_name, \n",
    "\t\t\t\t\t  \t\t\t\t\t\t\tmanager_last_name, adress, adress2, district, \n",
    "\t\t\t\t\t  \t\t\t\t\t\t\tcity, posta_code, country, phone)\n",
    "\t\t\t\t\t\tSELECT \n",
    "\t\t\t\t\t\t\ts.store_id as store_key,\n",
    "\t\t\t\t\t\t\ts.store_id,\n",
    "\t\t\t\t\t\t\tst.first_name,\n",
    "\t\t\t\t\t\t\tst.last_name,\n",
    "\t\t\t\t\t\t\ta.address,\n",
    "\t\t\t\t\t\t\ta.address2,\n",
    "\t\t\t\t\t\t\ta.district,\n",
    "\t\t\t\t\t\t\tc.city,\n",
    "\t\t\t\t\t\t\ta.postal_code,\n",
    "\t\t\t\t\t\t\tcoun.country,\n",
    "\t\t\t\t\t\t\ta.phone\n",
    "\t\t\t\t\t\tFROM store as s\n",
    "\t\t\t\t\t\tINNER JOIN staff as st\n",
    "\t\t\t\t\t\t\tON s.store_id = st.store_id\n",
    "\t\t\t\t\t\tINNER JOIN address as a\n",
    "\t\t\t\t\t\t\ton s.address_id = a.address_id\n",
    "\t\t\t\t\t\tINNER JOIN city as c\n",
    "\t\t\t\t\t\t\tON a.city_id = c.city_id\n",
    "\t\t\t\t\t\tINNER JOIN country as coun\n",
    "\t\t\t\t\t\t\tON c.country_id = coun.country_id\n",
    "\t\t\t\t\t''')\n",
    "    cur.execute(dimstore_query)\n",
    " \n",
    "except psycopg2.Error as e:\n",
    "    if psycopg2.errors.lookup(UNIQUE_VIOLATION):\n",
    "        print('Error: Records you are trying to load are already in the table') \n",
    "\n",
    "    else:\n",
    "        print('Error: Undefined error has happened')\n",
    "        print(e)"
   ]
  },
  {
   "cell_type": "code",
   "execution_count": 204,
   "metadata": {},
   "outputs": [
    {
     "name": "stdout",
     "output_type": "stream",
     "text": [
      "Error: Records you are trying to load are already in the table\n"
     ]
    }
   ],
   "source": [
    "try:\n",
    "    dimrental_query = ('''INSERT INTO dimrental (rental_key, rental_id, title, rental_date, return_date)\n",
    "\t\t\t\t\t\t\tSELECT\n",
    "\t\t\t\t\t\t\t\tr.rental_id as rental_key,\n",
    "\t\t\t\t\t\t\t\tr.rental_id,\n",
    "\t\t\t\t\t\t\t\tf.title,\n",
    "\t\t\t\t\t\t\t\tr.rental_date,\n",
    "\t\t\t\t\t\t\t\tr.return_date\n",
    "\t\t\t\t\t\t\tFROM rental AS r\n",
    "\t\t\t\t\t\t\tINNER JOIN inventory AS i ON i.inventory_id = r.inventory_id\n",
    "\t\t\t\t\t\t\tINNER JOIN film AS f ON f.film_id = i.film_id\n",
    "\t\t\t\t\t\t''')\n",
    "    cur.execute(dimrental_query)\n",
    " \n",
    "except psycopg2.Error as e:\n",
    "    if psycopg2.errors.lookup(UNIQUE_VIOLATION):\n",
    "        print('Error: Records you are trying to load are already in the table') \n",
    "\n",
    "    else:\n",
    "        print('Error: Undefined error has happened')\n",
    "        print(e)"
   ]
  },
  {
   "cell_type": "code",
   "execution_count": 205,
   "metadata": {},
   "outputs": [
    {
     "name": "stdout",
     "output_type": "stream",
     "text": [
      "Error: Records you are trying to load are already in the table\n"
     ]
    }
   ],
   "source": [
    "try:\n",
    "    dimfilm_query = ('''INSERT INTO dimfilm (film_key, film_id, title, description, release_year, \n",
    "\t\t\t\t\t \t\t\t\t\t\t\tlanguage, length, rating, category, rental_rate,rental_duration, \n",
    "\t\t\t\t\t \t\t\t\t\t\t\tspecial_features, actor_first_name, actor_last_name)\n",
    "\t\t\t\t\t\tSELECT\n",
    "\t\t\t\t\t\t\tROW_NUMBER() OVER() AS film_key,\n",
    "\t\t\t\t\t\t\tf.film_id,\n",
    "\t\t\t\t\t\t\tf.title,\n",
    "\t\t\t\t\t\t\tf.description,\n",
    "\t\t\t\t\t\t\tf.release_year,\n",
    "\t\t\t\t\t\t\tl.name,\n",
    "\t\t\t\t\t\t\tf.length,\n",
    "\t\t\t\t\t\t\tf.rating,\n",
    "\t\t\t\t\t\t\tcat.name,\n",
    "\t\t\t\t\t\t\tf.rental_rate,\n",
    "\t\t\t\t\t\t\tf.rental_duration,\n",
    "\t\t\t\t\t\t\tf.special_features,\n",
    "\t\t\t\t\t\t\tac.first_name,\n",
    "\t\t\t\t\t\t\tac.last_name\n",
    "\t\t\t\t\t\tFROM film as f\n",
    "\t\t\t\t\t\tINNER JOIN language AS l ON l.language_id = f.language_id\n",
    "\t\t\t\t\t\tINNER JOIN film_category AS fc ON fc.film_id = f.film_id\n",
    "\t\t\t\t\t\tINNER JOIN category AS cat ON cat.category_id = fc.category_id\n",
    "\t\t\t\t\t\tRIGHT JOIN film_actor AS fa ON fa.film_id = f.film_id\n",
    "\t\t\t\t\t\tRIGHT JOIN actor AS ac ON ac.actor_id = fa.actor_id\n",
    "\t\t\t\t\t''')\n",
    "    cur.execute(dimfilm_query)\n",
    " \n",
    "except psycopg2.Error as e:\n",
    "    if psycopg2.errors.lookup(UNIQUE_VIOLATION):\n",
    "        print('Error: Records you are trying to load are already in the table') \n",
    "\n",
    "    else:\n",
    "        print('Error: Undefined error has happened')\n",
    "        print(e)"
   ]
  },
  {
   "cell_type": "code",
   "execution_count": 206,
   "metadata": {},
   "outputs": [
    {
     "name": "stdout",
     "output_type": "stream",
     "text": [
      "Error: Records you are trying to load are already in the table\n"
     ]
    }
   ],
   "source": [
    "try:\n",
    "    dimstaff_query = ('''INSERT INTO dimstaff (staff_key, staff_id, first_name, last_name, address,\n",
    "\t\t\t\t\t                            address2, district, city, posta_code, country, email,\n",
    "\t\t\t\t\t                            phone, working_store, ussername, password)\n",
    "                        SELECT\n",
    "                            s.staff_id as staff_key,\n",
    "                            s.staff_id,\n",
    "                            s.first_name,\n",
    "                            s.last_name,\n",
    "                            a.address,\n",
    "                            a.address2,\n",
    "                            a.district,\n",
    "                            c.city,\n",
    "                            a.postal_code,\n",
    "                            coun.country,\n",
    "                            s.email,\n",
    "                            a.phone,\n",
    "                            s.store_id,\n",
    "                            s.username,\n",
    "                            s.password\n",
    "                        FROM staff as s\n",
    "                        INNER JOIN address AS a ON a.address_id = s.address_id \n",
    "                        INNER JOIN city AS c ON c.city_id = a.city_id\n",
    "                        INNER JOIN country AS coun ON coun.country_id = c.country_id\n",
    "                    ''')\n",
    "    cur.execute(dimstaff_query)\n",
    " \n",
    "except psycopg2.Error as e:\n",
    "    if psycopg2.errors.lookup(UNIQUE_VIOLATION):\n",
    "        print('Error: Records you are trying to load are already in the table') \n",
    "\n",
    "    else:\n",
    "        print('Error: Undefined error has happened')\n",
    "        print(e)"
   ]
  },
  {
   "cell_type": "code",
   "execution_count": 209,
   "metadata": {},
   "outputs": [
    {
     "name": "stdout",
     "output_type": "stream",
     "text": [
      "Error: Records you are trying to load are already in the table\n"
     ]
    }
   ],
   "source": [
    "# Now im going to insert data into the fact table\n",
    "try:\n",
    "    factsales_query = ('''INSERT INTO factsales (customer_key, store_key, staff_key, film_key, date_key ,rental_key, sales_amount)\n",
    "                            SELECT\n",
    "                                p.customer_id,\n",
    "                                c.store_id,\n",
    "                                p.staff_id,\n",
    "                                i.film_id,\n",
    "                                TO_CHAR(p.payment_date :: DATE, 'yyyMMDD') :: INT,\n",
    "                                p.rental_id,\n",
    "                                p.amount\n",
    "                            FROM payment AS p\n",
    "                            INNER JOIN customer AS c ON c.customer_id = p.customer_id\n",
    "                            INNER JOIN rental AS r ON r.rental_id = p.rental_id\n",
    "                            INNER JOIN inventory AS i ON i.inventory_id = r.inventory_id\n",
    "                        ''')\n",
    "    cur.execute(factsales_query)\n",
    " \n",
    "except psycopg2.Error as e:\n",
    "    if psycopg2.errors.lookup(UNIQUE_VIOLATION):\n",
    "        print('Error: Records you are trying to load are already in the table') \n",
    "\n",
    "    else:\n",
    "        print('Error: Undefined error has happened')\n",
    "        print(e)"
   ]
  },
  {
   "cell_type": "markdown",
   "metadata": {},
   "source": [
    "# Bibliography\n",
    "\n",
    "- https://www.postgresqltutorial.com/postgresql-getting-started/postgresql-sample-database/\n",
    "- https://www.postgresql.org/docs/8.1/functions-formatting.html\n",
    "- https://www.folkstalk.com/2022/09/copy-value-from-one-column-to-another-postgres-with-code-examples.html"
   ]
  },
  {
   "cell_type": "markdown",
   "metadata": {},
   "source": []
  }
 ],
 "metadata": {
  "kernelspec": {
   "display_name": "Python 3.8.13 ('dhdsblend2021')",
   "language": "python",
   "name": "python3"
  },
  "language_info": {
   "codemirror_mode": {
    "name": "ipython",
    "version": 3
   },
   "file_extension": ".py",
   "mimetype": "text/x-python",
   "name": "python",
   "nbconvert_exporter": "python",
   "pygments_lexer": "ipython3",
   "version": "3.8.13"
  },
  "orig_nbformat": 4,
  "vscode": {
   "interpreter": {
    "hash": "9689ec58c8207ae0e5df44f3c0da8809222a7a4816f0f8cce8ef27c7a9266816"
   }
  }
 },
 "nbformat": 4,
 "nbformat_minor": 2
}
