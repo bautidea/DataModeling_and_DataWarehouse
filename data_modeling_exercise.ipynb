{
 "cells": [
  {
   "cell_type": "markdown",
   "metadata": {},
   "source": [
    "Importing library"
   ]
  },
  {
   "cell_type": "code",
   "execution_count": 1,
   "metadata": {},
   "outputs": [],
   "source": [
    "import psycopg2"
   ]
  },
  {
   "cell_type": "code",
   "execution_count": 2,
   "metadata": {},
   "outputs": [],
   "source": [
    "# Create connection to database.\n",
    "try:\n",
    "    conn = psycopg2.connect('host=localhost dbname=postgres user=postgres password=root')\n",
    "except psycopg2.Error as e:\n",
    "    print('Error: could not make connection to the Postgres database')\n",
    "    print(e)"
   ]
  },
  {
   "cell_type": "code",
   "execution_count": 3,
   "metadata": {},
   "outputs": [],
   "source": [
    "# Using the connection to get a cursor that can be used to execute queries.\n",
    "try:\n",
    "    cur = conn.cursor()\n",
    "    # Seting automatic commit as True so each action is commited without having to call conn.commit()\n",
    "    conn.set_session(autocommit=True)\n",
    "except psycopg2.Error as e:\n",
    "    print('Error: Could not get cursor from data base')\n",
    "    print(e)"
   ]
  },
  {
   "cell_type": "code",
   "execution_count": 4,
   "metadata": {},
   "outputs": [
    {
     "name": "stdout",
     "output_type": "stream",
     "text": [
      "la base de datos «myfirstpostgredb» ya existe\n",
      "\n"
     ]
    }
   ],
   "source": [
    "# Creating database\n",
    "try: \n",
    "    cur.execute('CREATE DATABASE myfirstpostgredb')\n",
    "    # After creating my database, i close connection to default database\n",
    "    conn.close()\n",
    "except psycopg2.Error as e:\n",
    "    print(e)"
   ]
  },
  {
   "cell_type": "code",
   "execution_count": 5,
   "metadata": {},
   "outputs": [],
   "source": [
    "# Reconnecting to the new database\n",
    "try:\n",
    "    conn = psycopg2.connect('host= localhost dbname = myfirstpostgredb user = postgres password = root')\n",
    "    cur = conn.cursor()\n",
    "    conn.set_session(autocommit=True)\n",
    "except psycopg2.Error as e:\n",
    "    print('Error: Could not connect to the new database')\n",
    "    print(e)"
   ]
  },
  {
   "cell_type": "markdown",
   "metadata": {},
   "source": [
    "Creating table for students"
   ]
  },
  {
   "cell_type": "code",
   "execution_count": 6,
   "metadata": {},
   "outputs": [],
   "source": [
    "try:\n",
    "    cur.execute('CREATE TABLE IF NOT EXISTS students ( student_id int, name varchar, age int, gender varchar, subject varchar, marks int )')\n",
    "except psycopg2.Error as e:\n",
    "    print('Error: Issue creating table')\n",
    "    print(e)"
   ]
  },
  {
   "cell_type": "code",
   "execution_count": 7,
   "metadata": {},
   "outputs": [],
   "source": [
    "# inserting new values\n",
    "values_dict ={\n",
    "              'student_id' : (1,2),\n",
    "              'name' : ('Jorge', 'Miguel'),\n",
    "              'age' : (45, 15),\n",
    "              'gender' : ('Male', 'Male'),\n",
    "              'subject' : ('Maths', 'Phisics'),\n",
    "              'marks' : (50,85)\n",
    "              }\n",
    "\n",
    "try:\n",
    "    for i in range(0,len(values_dict.get('student_id'))):\n",
    "        cur.execute('''INSERT INTO students (student_id, name, age, gender, subject, marks) VALUES (%s, %s, %s, %s, %s, %s)''', \n",
    "                       (\n",
    "                        values_dict.get('student_id')[i], \n",
    "                        values_dict.get('name')[i], \n",
    "                        values_dict.get('age')[i], \n",
    "                        values_dict.get('gender')[i],\n",
    "                        values_dict.get('subject')[i],\n",
    "                        values_dict.get('marks')[i]\n",
    "                        )\n",
    "                    )\n",
    "except psycopg2.Error as e:\n",
    "    print('Error: Inserting rows')\n",
    "    print(e)"
   ]
  },
  {
   "cell_type": "code",
   "execution_count": 8,
   "metadata": {},
   "outputs": [
    {
     "name": "stdout",
     "output_type": "stream",
     "text": [
      "(1, 'Jorge', 45, 'Male', 'Maths', 50)\n",
      "(2, 'Miguel', 15, 'Male', 'Phisics', 85)\n",
      "(1, 'Jorge', 45, 'Male', 'Maths', 50)\n",
      "(2, 'Miguel', 15, 'Male', 'Phisics', 85)\n",
      "(1, 'Jorge', 45, 'Male', 'Maths', 50)\n",
      "(2, 'Miguel', 15, 'Male', 'Phisics', 85)\n",
      "(1, 'Jorge', 45, 'Male', 'Maths', 50)\n",
      "(2, 'Miguel', 15, 'Male', 'Phisics', 85)\n",
      "(1, 'Jorge', 45, 'Male', 'Maths', 50)\n",
      "(2, 'Miguel', 15, 'Male', 'Phisics', 85)\n"
     ]
    }
   ],
   "source": [
    "# Now we will retrive from table the students we recently added\n",
    "try:\n",
    "    cur.execute('SELECT * FROM students')\n",
    "except psycopg2.Error as e:\n",
    "    print('Error: Selecting student')\n",
    "    print(e)\n",
    "    \n",
    "row = cur.fetchone()\n",
    "while row:\n",
    "    print(row)\n",
    "    row = cur.fetchone()\n",
    "\n",
    "# finally we close cursor and connection.\n",
    "cur.close()\n",
    "conn.close()\n",
    "    "
   ]
  },
  {
   "cell_type": "code",
   "execution_count": null,
   "metadata": {},
   "outputs": [],
   "source": []
  }
 ],
 "metadata": {
  "kernelspec": {
   "display_name": "Python 3.8.13 ('dhdsblend2021')",
   "language": "python",
   "name": "python3"
  },
  "language_info": {
   "codemirror_mode": {
    "name": "ipython",
    "version": 3
   },
   "file_extension": ".py",
   "mimetype": "text/x-python",
   "name": "python",
   "nbconvert_exporter": "python",
   "pygments_lexer": "ipython3",
   "version": "3.8.13"
  },
  "orig_nbformat": 4,
  "vscode": {
   "interpreter": {
    "hash": "9689ec58c8207ae0e5df44f3c0da8809222a7a4816f0f8cce8ef27c7a9266816"
   }
  }
 },
 "nbformat": 4,
 "nbformat_minor": 2
}
