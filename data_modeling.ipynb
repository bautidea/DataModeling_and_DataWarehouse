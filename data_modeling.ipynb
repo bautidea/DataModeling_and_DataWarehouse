{
 "cells": [
  {
   "cell_type": "markdown",
   "metadata": {},
   "source": [
    "Importing libraries"
   ]
  },
  {
   "cell_type": "code",
   "execution_count": 52,
   "metadata": {},
   "outputs": [],
   "source": [
    "import pandas as pd\n",
    "\n",
    "import psycopg2\n",
    "import os"
   ]
  },
  {
   "cell_type": "markdown",
   "metadata": {},
   "source": [
    "Defining functions."
   ]
  },
  {
   "cell_type": "code",
   "execution_count": 53,
   "metadata": {},
   "outputs": [],
   "source": [
    "def create_database():\n",
    "    try:\n",
    "        # Connect to default database\n",
    "        conn = psycopg2.connect('host = localhost dbname = postgres user = postgres password = root')\n",
    "        conn.set_session(autocommit=True)\n",
    "        cur = conn.cursor()\n",
    "        \n",
    "        # Creating database\n",
    "        cur.execute('DROP DATABASE IF EXISTS data_modeling') \n",
    "        cur.execute('CREATE DATABASE data_modeling')\n",
    "        \n",
    "        # Closing connection to database.\n",
    "        conn.close()\n",
    "        \n",
    "        # Connecting to created database.\n",
    "        conn = psycopg2.connect('host = localhost dbname = data_modeling user = postgres password = root')\n",
    "        conn.set_session(autocommit=True)\n",
    "        cur = conn.cursor()\n",
    "\n",
    "        print('DataBase created name - \"data_modeling\"')\n",
    "        \n",
    "        # Creating tables.\n",
    "        customer_table_create = ('''CREATE TABLE IF NOT EXISTS customer(\n",
    "            customer_id VARCHAR PRIMARY KEY,\n",
    "            customer_unique_id VARCHAR,\n",
    "            customer_zip_code_prefix INT,\n",
    "            customer_city VARCHAR,\n",
    "            customer_state VARCHAR\n",
    "        )''')\n",
    "        cur.execute(customer_table_create)\n",
    "        \n",
    "        geolocation_table_create = ('''CREATE TABLE IF NOT EXISTS geolocation(\n",
    "            geolocation_zip_code_prefix VARCHAR,\n",
    "            geolocation_lat FLOAT,\n",
    "            geolocation_lng FLOAT,\n",
    "            geolocation_city VARCHAR,\n",
    "            geolocation_state VARCHAR\n",
    "        )''')\n",
    "        cur.execute(geolocation_table_create)\n",
    "        \n",
    "        order_items_table_create = ('''CREATE TABLE IF NOT EXISTS order_items(\n",
    "            order_id VARCHAR,\n",
    "            order_item_id INT,\n",
    "            product_id VARCHAR,\n",
    "            seller_id VARCHAR,\n",
    "            shipping_limit_date DATE,\n",
    "            price FLOAT,\n",
    "            freight_value FLOAT\n",
    "        )''')\n",
    "        cur.execute(order_items_table_create)\n",
    "        \n",
    "        payments_table_create = ('''CREATE TABLE IF NOT EXISTS payments(\n",
    "            order_id VARCHAR,\n",
    "            payment_sequential int,\n",
    "            payment_type VARCHAR,\n",
    "            payment_installments INT,\n",
    "            payment_value FLOAT\n",
    "        )''')\n",
    "        cur.execute(payments_table_create)\n",
    "        \n",
    "        reviews_table_create = ('''CREATE TABLE IF NOT EXISTS reviews(\n",
    "            review_id VARCHAR,\n",
    "            order_id VARCHAR,\n",
    "            review_score INT,\n",
    "            review_comment_title VARCHAR,\n",
    "            review_comment_message VARCHAR,\n",
    "            review_creation_date VARCHAR,\n",
    "            review_answer_timestamp VARCHAR\n",
    "        )''')\n",
    "        cur.execute(reviews_table_create)\n",
    "        \n",
    "        orders_table_create = ('''CREATE TABLE IF NOT EXISTS orders(\n",
    "            order_id VARCHAR PRIMARY KEY,\n",
    "            customer_id VARCHAR,\n",
    "            order_status VARCHAR,\n",
    "            order_purchase_timestamp VARCHAR,\n",
    "            order_approved_at VARCHAR,\n",
    "            order_delivered_carrier_date VARCHAR,\n",
    "            order_delivered_customer_date VARCHAR,\n",
    "            order_estimated_delivery_date VARCHAR\n",
    "        )''')\n",
    "        cur.execute(orders_table_create)\n",
    "        \n",
    "        products_table_create = ('''CREATE TABLE IF NOT EXISTS products(\n",
    "            product_id VARCHAR PRIMARY KEY,\n",
    "            product_category_name VARCHAR,\n",
    "            product_name_lenght FLOAT,\n",
    "            product_description_lenght FLOAT,\n",
    "            product_photos_qty FLOAT,\n",
    "            product_weight_g FLOAT,\n",
    "            product_length_cm FLOAT,\n",
    "            product_height_cm FLOAT,\n",
    "            product_width_cm FLOAT\n",
    "        )''')\n",
    "        cur.execute(products_table_create)\n",
    "        \n",
    "        sellers_table_create = ('''CREATE TABLE IF NOT EXISTS sellers(\n",
    "            seller_id VARCHAR PRIMARY KEY,\n",
    "            seller_zip_code_prefix int,\n",
    "            seller_city VARCHAR,\n",
    "            seller_state VARCHAR\n",
    "        )''')\n",
    "        cur.execute(sellers_table_create)\n",
    "        \n",
    "        product_category_table_create = ('''CREATE TABLE IF NOT EXISTS product_category(\n",
    "            product_category_name VARCHAR PRIMARY KEY,\n",
    "            product_category_name_english VARCHAR\n",
    "        )''')\n",
    "        cur.execute(product_category_table_create)\n",
    "        \n",
    "    except psycopg2.Error as e:\n",
    "        print('Error creating DataBase')\n",
    "        print(e)\n",
    "    \n",
    "    return conn, cur"
   ]
  },
  {
   "cell_type": "markdown",
   "metadata": {},
   "source": [
    "Now we procede to read and import all tables."
   ]
  },
  {
   "cell_type": "code",
   "execution_count": 54,
   "metadata": {},
   "outputs": [
    {
     "name": "stdout",
     "output_type": "stream",
     "text": [
      "(10000, 5)\n"
     ]
    },
    {
     "data": {
      "text/html": [
       "<div>\n",
       "<style scoped>\n",
       "    .dataframe tbody tr th:only-of-type {\n",
       "        vertical-align: middle;\n",
       "    }\n",
       "\n",
       "    .dataframe tbody tr th {\n",
       "        vertical-align: top;\n",
       "    }\n",
       "\n",
       "    .dataframe thead th {\n",
       "        text-align: right;\n",
       "    }\n",
       "</style>\n",
       "<table border=\"1\" class=\"dataframe\">\n",
       "  <thead>\n",
       "    <tr style=\"text-align: right;\">\n",
       "      <th></th>\n",
       "      <th>customer_id</th>\n",
       "      <th>customer_unique_id</th>\n",
       "      <th>customer_zip_code_prefix</th>\n",
       "      <th>customer_city</th>\n",
       "      <th>customer_state</th>\n",
       "    </tr>\n",
       "  </thead>\n",
       "  <tbody>\n",
       "    <tr>\n",
       "      <th>7014</th>\n",
       "      <td>87fa2df087845b8953a52f114686488b</td>\n",
       "      <td>4c14835dd913b9ed86fb3a1179f171e8</td>\n",
       "      <td>54762</td>\n",
       "      <td>camaragibe</td>\n",
       "      <td>PE</td>\n",
       "    </tr>\n",
       "    <tr>\n",
       "      <th>7736</th>\n",
       "      <td>6e44eda9d6ef9a3b9252f5848a9da93f</td>\n",
       "      <td>e767f34a12740d2fc014485f4dfe2d5b</td>\n",
       "      <td>86800</td>\n",
       "      <td>apucarana</td>\n",
       "      <td>PR</td>\n",
       "    </tr>\n",
       "    <tr>\n",
       "      <th>6217</th>\n",
       "      <td>c675a2376ab75226f62b515ef498ba9b</td>\n",
       "      <td>f498e66a64908ad6fce1e90a0c1515ad</td>\n",
       "      <td>31970</td>\n",
       "      <td>belo horizonte</td>\n",
       "      <td>MG</td>\n",
       "    </tr>\n",
       "  </tbody>\n",
       "</table>\n",
       "</div>"
      ],
      "text/plain": [
       "                           customer_id                customer_unique_id  \\\n",
       "7014  87fa2df087845b8953a52f114686488b  4c14835dd913b9ed86fb3a1179f171e8   \n",
       "7736  6e44eda9d6ef9a3b9252f5848a9da93f  e767f34a12740d2fc014485f4dfe2d5b   \n",
       "6217  c675a2376ab75226f62b515ef498ba9b  f498e66a64908ad6fce1e90a0c1515ad   \n",
       "\n",
       "      customer_zip_code_prefix   customer_city customer_state  \n",
       "7014                     54762      camaragibe             PE  \n",
       "7736                     86800       apucarana             PR  \n",
       "6217                     31970  belo horizonte             MG  "
      ]
     },
     "execution_count": 54,
     "metadata": {},
     "output_type": "execute_result"
    }
   ],
   "source": [
    "data_customers = pd.read_csv('./data/olist_customers_dataset.csv')\n",
    "data_customers = data_customers.iloc[0:10000,:]\n",
    "print(data_customers.shape)\n",
    "data_customers.sample(3)"
   ]
  },
  {
   "cell_type": "code",
   "execution_count": 55,
   "metadata": {},
   "outputs": [
    {
     "name": "stdout",
     "output_type": "stream",
     "text": [
      "(10000, 5)\n"
     ]
    },
    {
     "data": {
      "text/html": [
       "<div>\n",
       "<style scoped>\n",
       "    .dataframe tbody tr th:only-of-type {\n",
       "        vertical-align: middle;\n",
       "    }\n",
       "\n",
       "    .dataframe tbody tr th {\n",
       "        vertical-align: top;\n",
       "    }\n",
       "\n",
       "    .dataframe thead th {\n",
       "        text-align: right;\n",
       "    }\n",
       "</style>\n",
       "<table border=\"1\" class=\"dataframe\">\n",
       "  <thead>\n",
       "    <tr style=\"text-align: right;\">\n",
       "      <th></th>\n",
       "      <th>geolocation_zip_code_prefix</th>\n",
       "      <th>geolocation_lat</th>\n",
       "      <th>geolocation_lng</th>\n",
       "      <th>geolocation_city</th>\n",
       "      <th>geolocation_state</th>\n",
       "    </tr>\n",
       "  </thead>\n",
       "  <tbody>\n",
       "    <tr>\n",
       "      <th>6195</th>\n",
       "      <td>1259</td>\n",
       "      <td>-23.540911</td>\n",
       "      <td>-46.684967</td>\n",
       "      <td>sao paulo</td>\n",
       "      <td>SP</td>\n",
       "    </tr>\n",
       "    <tr>\n",
       "      <th>9491</th>\n",
       "      <td>1310</td>\n",
       "      <td>-23.563258</td>\n",
       "      <td>-46.654166</td>\n",
       "      <td>sao paulo</td>\n",
       "      <td>SP</td>\n",
       "    </tr>\n",
       "    <tr>\n",
       "      <th>6921</th>\n",
       "      <td>1223</td>\n",
       "      <td>-23.543805</td>\n",
       "      <td>-46.649205</td>\n",
       "      <td>são paulo</td>\n",
       "      <td>SP</td>\n",
       "    </tr>\n",
       "  </tbody>\n",
       "</table>\n",
       "</div>"
      ],
      "text/plain": [
       "      geolocation_zip_code_prefix  geolocation_lat  geolocation_lng  \\\n",
       "6195                         1259       -23.540911       -46.684967   \n",
       "9491                         1310       -23.563258       -46.654166   \n",
       "6921                         1223       -23.543805       -46.649205   \n",
       "\n",
       "     geolocation_city geolocation_state  \n",
       "6195        sao paulo                SP  \n",
       "9491        sao paulo                SP  \n",
       "6921        são paulo                SP  "
      ]
     },
     "execution_count": 55,
     "metadata": {},
     "output_type": "execute_result"
    }
   ],
   "source": [
    "data_geolocation = pd.read_csv('./data/olist_geolocation_dataset.csv')\n",
    "data_geolocation = data_geolocation.iloc[0:10000,:]\n",
    "print(data_geolocation.shape)\n",
    "data_geolocation.sample(3)"
   ]
  },
  {
   "cell_type": "code",
   "execution_count": 56,
   "metadata": {},
   "outputs": [
    {
     "name": "stdout",
     "output_type": "stream",
     "text": [
      "(10000, 7)\n"
     ]
    },
    {
     "data": {
      "text/html": [
       "<div>\n",
       "<style scoped>\n",
       "    .dataframe tbody tr th:only-of-type {\n",
       "        vertical-align: middle;\n",
       "    }\n",
       "\n",
       "    .dataframe tbody tr th {\n",
       "        vertical-align: top;\n",
       "    }\n",
       "\n",
       "    .dataframe thead th {\n",
       "        text-align: right;\n",
       "    }\n",
       "</style>\n",
       "<table border=\"1\" class=\"dataframe\">\n",
       "  <thead>\n",
       "    <tr style=\"text-align: right;\">\n",
       "      <th></th>\n",
       "      <th>order_id</th>\n",
       "      <th>order_item_id</th>\n",
       "      <th>product_id</th>\n",
       "      <th>seller_id</th>\n",
       "      <th>shipping_limit_date</th>\n",
       "      <th>price</th>\n",
       "      <th>freight_value</th>\n",
       "    </tr>\n",
       "  </thead>\n",
       "  <tbody>\n",
       "    <tr>\n",
       "      <th>1554</th>\n",
       "      <td>03952349aca310eeba691019501388de</td>\n",
       "      <td>1</td>\n",
       "      <td>47fc9ac35ea613a0fc62033750123d2f</td>\n",
       "      <td>7142540dd4c91e2237acb7e911c4eba2</td>\n",
       "      <td>2017-09-18 02:35:53</td>\n",
       "      <td>84.90</td>\n",
       "      <td>17.84</td>\n",
       "    </tr>\n",
       "    <tr>\n",
       "      <th>2455</th>\n",
       "      <td>05861bbf66a8cc3d5cdb6db76fece371</td>\n",
       "      <td>1</td>\n",
       "      <td>4c77d14c542fcd857dddc3df2e82329c</td>\n",
       "      <td>4c498c7345e89aebad651544829beca0</td>\n",
       "      <td>2018-04-24 05:11:27</td>\n",
       "      <td>249.88</td>\n",
       "      <td>8.61</td>\n",
       "    </tr>\n",
       "    <tr>\n",
       "      <th>1498</th>\n",
       "      <td>03705afa0a4aabe1a734ddb11c1df3f0</td>\n",
       "      <td>1</td>\n",
       "      <td>b40ec43bdfc6d6fdd65e882066a5c895</td>\n",
       "      <td>897060da8b9a21f655304d50fd935913</td>\n",
       "      <td>2017-10-03 08:49:34</td>\n",
       "      <td>177.00</td>\n",
       "      <td>27.78</td>\n",
       "    </tr>\n",
       "  </tbody>\n",
       "</table>\n",
       "</div>"
      ],
      "text/plain": [
       "                              order_id  order_item_id  \\\n",
       "1554  03952349aca310eeba691019501388de              1   \n",
       "2455  05861bbf66a8cc3d5cdb6db76fece371              1   \n",
       "1498  03705afa0a4aabe1a734ddb11c1df3f0              1   \n",
       "\n",
       "                            product_id                         seller_id  \\\n",
       "1554  47fc9ac35ea613a0fc62033750123d2f  7142540dd4c91e2237acb7e911c4eba2   \n",
       "2455  4c77d14c542fcd857dddc3df2e82329c  4c498c7345e89aebad651544829beca0   \n",
       "1498  b40ec43bdfc6d6fdd65e882066a5c895  897060da8b9a21f655304d50fd935913   \n",
       "\n",
       "      shipping_limit_date   price  freight_value  \n",
       "1554  2017-09-18 02:35:53   84.90          17.84  \n",
       "2455  2018-04-24 05:11:27  249.88           8.61  \n",
       "1498  2017-10-03 08:49:34  177.00          27.78  "
      ]
     },
     "execution_count": 56,
     "metadata": {},
     "output_type": "execute_result"
    }
   ],
   "source": [
    "data_order_items = pd.read_csv('./data/olist_order_items_dataset.csv')\n",
    "data_order_items = data_order_items.iloc[0:10000,:]\n",
    "print(data_order_items.shape)\n",
    "data_order_items.sample(3)"
   ]
  },
  {
   "cell_type": "code",
   "execution_count": 57,
   "metadata": {},
   "outputs": [
    {
     "name": "stdout",
     "output_type": "stream",
     "text": [
      "(10000, 5)\n"
     ]
    },
    {
     "data": {
      "text/html": [
       "<div>\n",
       "<style scoped>\n",
       "    .dataframe tbody tr th:only-of-type {\n",
       "        vertical-align: middle;\n",
       "    }\n",
       "\n",
       "    .dataframe tbody tr th {\n",
       "        vertical-align: top;\n",
       "    }\n",
       "\n",
       "    .dataframe thead th {\n",
       "        text-align: right;\n",
       "    }\n",
       "</style>\n",
       "<table border=\"1\" class=\"dataframe\">\n",
       "  <thead>\n",
       "    <tr style=\"text-align: right;\">\n",
       "      <th></th>\n",
       "      <th>order_id</th>\n",
       "      <th>payment_sequential</th>\n",
       "      <th>payment_type</th>\n",
       "      <th>payment_installments</th>\n",
       "      <th>payment_value</th>\n",
       "    </tr>\n",
       "  </thead>\n",
       "  <tbody>\n",
       "    <tr>\n",
       "      <th>6969</th>\n",
       "      <td>03f51c9adce893f63936c5146701aa2f</td>\n",
       "      <td>1</td>\n",
       "      <td>credit_card</td>\n",
       "      <td>2</td>\n",
       "      <td>370.57</td>\n",
       "    </tr>\n",
       "    <tr>\n",
       "      <th>7650</th>\n",
       "      <td>72074725a693246f2057f0d9e1c4398e</td>\n",
       "      <td>1</td>\n",
       "      <td>credit_card</td>\n",
       "      <td>10</td>\n",
       "      <td>426.26</td>\n",
       "    </tr>\n",
       "    <tr>\n",
       "      <th>6999</th>\n",
       "      <td>78edd1ffa7d6932c983c695fbaf976e0</td>\n",
       "      <td>1</td>\n",
       "      <td>credit_card</td>\n",
       "      <td>4</td>\n",
       "      <td>96.88</td>\n",
       "    </tr>\n",
       "  </tbody>\n",
       "</table>\n",
       "</div>"
      ],
      "text/plain": [
       "                              order_id  payment_sequential payment_type  \\\n",
       "6969  03f51c9adce893f63936c5146701aa2f                   1  credit_card   \n",
       "7650  72074725a693246f2057f0d9e1c4398e                   1  credit_card   \n",
       "6999  78edd1ffa7d6932c983c695fbaf976e0                   1  credit_card   \n",
       "\n",
       "      payment_installments  payment_value  \n",
       "6969                     2         370.57  \n",
       "7650                    10         426.26  \n",
       "6999                     4          96.88  "
      ]
     },
     "execution_count": 57,
     "metadata": {},
     "output_type": "execute_result"
    }
   ],
   "source": [
    "data_payments = pd.read_csv('./data/olist_order_payments_dataset.csv')\n",
    "data_payments = data_payments.iloc[0:10000,:]\n",
    "print(data_payments.shape)\n",
    "data_payments.sample(3)"
   ]
  },
  {
   "cell_type": "code",
   "execution_count": 58,
   "metadata": {},
   "outputs": [
    {
     "name": "stdout",
     "output_type": "stream",
     "text": [
      "(10000, 7)\n"
     ]
    },
    {
     "data": {
      "text/html": [
       "<div>\n",
       "<style scoped>\n",
       "    .dataframe tbody tr th:only-of-type {\n",
       "        vertical-align: middle;\n",
       "    }\n",
       "\n",
       "    .dataframe tbody tr th {\n",
       "        vertical-align: top;\n",
       "    }\n",
       "\n",
       "    .dataframe thead th {\n",
       "        text-align: right;\n",
       "    }\n",
       "</style>\n",
       "<table border=\"1\" class=\"dataframe\">\n",
       "  <thead>\n",
       "    <tr style=\"text-align: right;\">\n",
       "      <th></th>\n",
       "      <th>review_id</th>\n",
       "      <th>order_id</th>\n",
       "      <th>review_score</th>\n",
       "      <th>review_comment_title</th>\n",
       "      <th>review_comment_message</th>\n",
       "      <th>review_creation_date</th>\n",
       "      <th>review_answer_timestamp</th>\n",
       "    </tr>\n",
       "  </thead>\n",
       "  <tbody>\n",
       "    <tr>\n",
       "      <th>3353</th>\n",
       "      <td>ac2722597127c9c37a5c891e07537d96</td>\n",
       "      <td>13b405c01103fcb4ab199d6a8f7825ef</td>\n",
       "      <td>3</td>\n",
       "      <td>NaN</td>\n",
       "      <td>NaN</td>\n",
       "      <td>2018-02-08 00:00:00</td>\n",
       "      <td>2018-02-08 02:51:41</td>\n",
       "    </tr>\n",
       "    <tr>\n",
       "      <th>6336</th>\n",
       "      <td>f346435cf91d5abff8d8865e18240503</td>\n",
       "      <td>25d7504420f738317dcbb29f7e565976</td>\n",
       "      <td>5</td>\n",
       "      <td>NaN</td>\n",
       "      <td>NaN</td>\n",
       "      <td>2018-04-24 00:00:00</td>\n",
       "      <td>2018-04-25 10:57:37</td>\n",
       "    </tr>\n",
       "    <tr>\n",
       "      <th>3431</th>\n",
       "      <td>2a4866490609bc97a9389a92f1e2a227</td>\n",
       "      <td>577285c10c95871f906ac5ba6d9d902b</td>\n",
       "      <td>5</td>\n",
       "      <td>NaN</td>\n",
       "      <td>NaN</td>\n",
       "      <td>2018-06-22 00:00:00</td>\n",
       "      <td>2018-06-22 17:01:42</td>\n",
       "    </tr>\n",
       "  </tbody>\n",
       "</table>\n",
       "</div>"
      ],
      "text/plain": [
       "                             review_id                          order_id  \\\n",
       "3353  ac2722597127c9c37a5c891e07537d96  13b405c01103fcb4ab199d6a8f7825ef   \n",
       "6336  f346435cf91d5abff8d8865e18240503  25d7504420f738317dcbb29f7e565976   \n",
       "3431  2a4866490609bc97a9389a92f1e2a227  577285c10c95871f906ac5ba6d9d902b   \n",
       "\n",
       "      review_score review_comment_title review_comment_message  \\\n",
       "3353             3                  NaN                    NaN   \n",
       "6336             5                  NaN                    NaN   \n",
       "3431             5                  NaN                    NaN   \n",
       "\n",
       "     review_creation_date review_answer_timestamp  \n",
       "3353  2018-02-08 00:00:00     2018-02-08 02:51:41  \n",
       "6336  2018-04-24 00:00:00     2018-04-25 10:57:37  \n",
       "3431  2018-06-22 00:00:00     2018-06-22 17:01:42  "
      ]
     },
     "execution_count": 58,
     "metadata": {},
     "output_type": "execute_result"
    }
   ],
   "source": [
    "data_reviews = pd.read_csv('./data/olist_order_reviews_dataset.csv')\n",
    "data_reviews = data_reviews.iloc[0:10000,:]\n",
    "print(data_reviews.shape)\n",
    "data_reviews.sample(3)"
   ]
  },
  {
   "cell_type": "code",
   "execution_count": 59,
   "metadata": {},
   "outputs": [
    {
     "name": "stdout",
     "output_type": "stream",
     "text": [
      "(10000, 8)\n"
     ]
    },
    {
     "data": {
      "text/html": [
       "<div>\n",
       "<style scoped>\n",
       "    .dataframe tbody tr th:only-of-type {\n",
       "        vertical-align: middle;\n",
       "    }\n",
       "\n",
       "    .dataframe tbody tr th {\n",
       "        vertical-align: top;\n",
       "    }\n",
       "\n",
       "    .dataframe thead th {\n",
       "        text-align: right;\n",
       "    }\n",
       "</style>\n",
       "<table border=\"1\" class=\"dataframe\">\n",
       "  <thead>\n",
       "    <tr style=\"text-align: right;\">\n",
       "      <th></th>\n",
       "      <th>order_id</th>\n",
       "      <th>customer_id</th>\n",
       "      <th>order_status</th>\n",
       "      <th>order_purchase_timestamp</th>\n",
       "      <th>order_approved_at</th>\n",
       "      <th>order_delivered_carrier_date</th>\n",
       "      <th>order_delivered_customer_date</th>\n",
       "      <th>order_estimated_delivery_date</th>\n",
       "    </tr>\n",
       "  </thead>\n",
       "  <tbody>\n",
       "    <tr>\n",
       "      <th>283</th>\n",
       "      <td>c4d2f075fc3bf3a06d1e68e113c35cbd</td>\n",
       "      <td>aa6edca5d83d4c8e9a2262b9847febd6</td>\n",
       "      <td>delivered</td>\n",
       "      <td>2018-08-01 14:58:41</td>\n",
       "      <td>2018-08-01 15:31:17</td>\n",
       "      <td>2018-08-02 16:46:00</td>\n",
       "      <td>2018-08-15 00:18:53</td>\n",
       "      <td>2018-08-27 00:00:00</td>\n",
       "    </tr>\n",
       "    <tr>\n",
       "      <th>8851</th>\n",
       "      <td>61ce184c1c73abf33b18c98b0dff1229</td>\n",
       "      <td>7a704fc433bd27f103e167b4898c831d</td>\n",
       "      <td>delivered</td>\n",
       "      <td>2018-07-04 19:48:39</td>\n",
       "      <td>2018-07-05 16:21:59</td>\n",
       "      <td>2018-07-05 15:17:00</td>\n",
       "      <td>2018-07-11 20:28:44</td>\n",
       "      <td>2018-07-31 00:00:00</td>\n",
       "    </tr>\n",
       "    <tr>\n",
       "      <th>3478</th>\n",
       "      <td>38d7ca365470a06bd907802a6a62d83a</td>\n",
       "      <td>d3558802f902aaa861259024d95372f8</td>\n",
       "      <td>delivered</td>\n",
       "      <td>2017-11-21 18:35:19</td>\n",
       "      <td>2017-11-21 18:47:27</td>\n",
       "      <td>2017-11-22 22:48:51</td>\n",
       "      <td>2017-12-06 01:48:04</td>\n",
       "      <td>2017-12-11 00:00:00</td>\n",
       "    </tr>\n",
       "  </tbody>\n",
       "</table>\n",
       "</div>"
      ],
      "text/plain": [
       "                              order_id                       customer_id  \\\n",
       "283   c4d2f075fc3bf3a06d1e68e113c35cbd  aa6edca5d83d4c8e9a2262b9847febd6   \n",
       "8851  61ce184c1c73abf33b18c98b0dff1229  7a704fc433bd27f103e167b4898c831d   \n",
       "3478  38d7ca365470a06bd907802a6a62d83a  d3558802f902aaa861259024d95372f8   \n",
       "\n",
       "     order_status order_purchase_timestamp    order_approved_at  \\\n",
       "283     delivered      2018-08-01 14:58:41  2018-08-01 15:31:17   \n",
       "8851    delivered      2018-07-04 19:48:39  2018-07-05 16:21:59   \n",
       "3478    delivered      2017-11-21 18:35:19  2017-11-21 18:47:27   \n",
       "\n",
       "     order_delivered_carrier_date order_delivered_customer_date  \\\n",
       "283           2018-08-02 16:46:00           2018-08-15 00:18:53   \n",
       "8851          2018-07-05 15:17:00           2018-07-11 20:28:44   \n",
       "3478          2017-11-22 22:48:51           2017-12-06 01:48:04   \n",
       "\n",
       "     order_estimated_delivery_date  \n",
       "283            2018-08-27 00:00:00  \n",
       "8851           2018-07-31 00:00:00  \n",
       "3478           2017-12-11 00:00:00  "
      ]
     },
     "execution_count": 59,
     "metadata": {},
     "output_type": "execute_result"
    }
   ],
   "source": [
    "data_orders = pd.read_csv('./data/olist_orders_dataset.csv')\n",
    "data_orders = data_orders.iloc[0:10000,:]\n",
    "print(data_orders.shape)\n",
    "data_orders.sample(3)"
   ]
  },
  {
   "cell_type": "code",
   "execution_count": 60,
   "metadata": {},
   "outputs": [
    {
     "name": "stdout",
     "output_type": "stream",
     "text": [
      "(10000, 9)\n"
     ]
    },
    {
     "data": {
      "text/html": [
       "<div>\n",
       "<style scoped>\n",
       "    .dataframe tbody tr th:only-of-type {\n",
       "        vertical-align: middle;\n",
       "    }\n",
       "\n",
       "    .dataframe tbody tr th {\n",
       "        vertical-align: top;\n",
       "    }\n",
       "\n",
       "    .dataframe thead th {\n",
       "        text-align: right;\n",
       "    }\n",
       "</style>\n",
       "<table border=\"1\" class=\"dataframe\">\n",
       "  <thead>\n",
       "    <tr style=\"text-align: right;\">\n",
       "      <th></th>\n",
       "      <th>product_id</th>\n",
       "      <th>product_category_name</th>\n",
       "      <th>product_name_lenght</th>\n",
       "      <th>product_description_lenght</th>\n",
       "      <th>product_photos_qty</th>\n",
       "      <th>product_weight_g</th>\n",
       "      <th>product_length_cm</th>\n",
       "      <th>product_height_cm</th>\n",
       "      <th>product_width_cm</th>\n",
       "    </tr>\n",
       "  </thead>\n",
       "  <tbody>\n",
       "    <tr>\n",
       "      <th>659</th>\n",
       "      <td>29ea1bc54f78267f6e85b9c99c93e12a</td>\n",
       "      <td>construcao_ferramentas_construcao</td>\n",
       "      <td>58.0</td>\n",
       "      <td>339.0</td>\n",
       "      <td>1.0</td>\n",
       "      <td>7100.0</td>\n",
       "      <td>29.0</td>\n",
       "      <td>8.0</td>\n",
       "      <td>29.0</td>\n",
       "    </tr>\n",
       "    <tr>\n",
       "      <th>620</th>\n",
       "      <td>e619ceb6b2a4196772ddaa5c6e0368a7</td>\n",
       "      <td>moveis_decoracao</td>\n",
       "      <td>52.0</td>\n",
       "      <td>646.0</td>\n",
       "      <td>1.0</td>\n",
       "      <td>400.0</td>\n",
       "      <td>16.0</td>\n",
       "      <td>30.0</td>\n",
       "      <td>20.0</td>\n",
       "    </tr>\n",
       "    <tr>\n",
       "      <th>3757</th>\n",
       "      <td>72c271a278c54c171d6d007eeac8cf24</td>\n",
       "      <td>papelaria</td>\n",
       "      <td>53.0</td>\n",
       "      <td>696.0</td>\n",
       "      <td>5.0</td>\n",
       "      <td>350.0</td>\n",
       "      <td>26.0</td>\n",
       "      <td>36.0</td>\n",
       "      <td>11.0</td>\n",
       "    </tr>\n",
       "  </tbody>\n",
       "</table>\n",
       "</div>"
      ],
      "text/plain": [
       "                            product_id              product_category_name  \\\n",
       "659   29ea1bc54f78267f6e85b9c99c93e12a  construcao_ferramentas_construcao   \n",
       "620   e619ceb6b2a4196772ddaa5c6e0368a7                   moveis_decoracao   \n",
       "3757  72c271a278c54c171d6d007eeac8cf24                          papelaria   \n",
       "\n",
       "      product_name_lenght  product_description_lenght  product_photos_qty  \\\n",
       "659                  58.0                       339.0                 1.0   \n",
       "620                  52.0                       646.0                 1.0   \n",
       "3757                 53.0                       696.0                 5.0   \n",
       "\n",
       "      product_weight_g  product_length_cm  product_height_cm  product_width_cm  \n",
       "659             7100.0               29.0                8.0              29.0  \n",
       "620              400.0               16.0               30.0              20.0  \n",
       "3757             350.0               26.0               36.0              11.0  "
      ]
     },
     "execution_count": 60,
     "metadata": {},
     "output_type": "execute_result"
    }
   ],
   "source": [
    "data_products = pd.read_csv('./data/olist_products_dataset.csv')\n",
    "data_products = data_products.iloc[0:10000,:]\n",
    "print(data_products.shape)\n",
    "data_products.sample(3)"
   ]
  },
  {
   "cell_type": "code",
   "execution_count": 61,
   "metadata": {},
   "outputs": [
    {
     "name": "stdout",
     "output_type": "stream",
     "text": [
      "(3095, 4)\n"
     ]
    },
    {
     "data": {
      "text/html": [
       "<div>\n",
       "<style scoped>\n",
       "    .dataframe tbody tr th:only-of-type {\n",
       "        vertical-align: middle;\n",
       "    }\n",
       "\n",
       "    .dataframe tbody tr th {\n",
       "        vertical-align: top;\n",
       "    }\n",
       "\n",
       "    .dataframe thead th {\n",
       "        text-align: right;\n",
       "    }\n",
       "</style>\n",
       "<table border=\"1\" class=\"dataframe\">\n",
       "  <thead>\n",
       "    <tr style=\"text-align: right;\">\n",
       "      <th></th>\n",
       "      <th>seller_id</th>\n",
       "      <th>seller_zip_code_prefix</th>\n",
       "      <th>seller_city</th>\n",
       "      <th>seller_state</th>\n",
       "    </tr>\n",
       "  </thead>\n",
       "  <tbody>\n",
       "    <tr>\n",
       "      <th>351</th>\n",
       "      <td>671585f5a2af58b6e276bc01003c0d2b</td>\n",
       "      <td>80510</td>\n",
       "      <td>curitiba</td>\n",
       "      <td>PR</td>\n",
       "    </tr>\n",
       "    <tr>\n",
       "      <th>1469</th>\n",
       "      <td>b45d7ebfb7378630f1bcd74b6ff86ff7</td>\n",
       "      <td>30285</td>\n",
       "      <td>belo horizonte</td>\n",
       "      <td>MG</td>\n",
       "    </tr>\n",
       "    <tr>\n",
       "      <th>2406</th>\n",
       "      <td>eaf6d55068dea77334e8477d3878d89e</td>\n",
       "      <td>4660</td>\n",
       "      <td>sao paulo</td>\n",
       "      <td>SP</td>\n",
       "    </tr>\n",
       "  </tbody>\n",
       "</table>\n",
       "</div>"
      ],
      "text/plain": [
       "                             seller_id  seller_zip_code_prefix  \\\n",
       "351   671585f5a2af58b6e276bc01003c0d2b                   80510   \n",
       "1469  b45d7ebfb7378630f1bcd74b6ff86ff7                   30285   \n",
       "2406  eaf6d55068dea77334e8477d3878d89e                    4660   \n",
       "\n",
       "         seller_city seller_state  \n",
       "351         curitiba           PR  \n",
       "1469  belo horizonte           MG  \n",
       "2406       sao paulo           SP  "
      ]
     },
     "execution_count": 61,
     "metadata": {},
     "output_type": "execute_result"
    }
   ],
   "source": [
    "data_sellers = pd.read_csv('./data/olist_sellers_dataset.csv')\n",
    "print(data_sellers.shape)\n",
    "data_sellers.sample(3)"
   ]
  },
  {
   "cell_type": "code",
   "execution_count": 62,
   "metadata": {},
   "outputs": [
    {
     "name": "stdout",
     "output_type": "stream",
     "text": [
      "(71, 2)\n"
     ]
    },
    {
     "data": {
      "text/html": [
       "<div>\n",
       "<style scoped>\n",
       "    .dataframe tbody tr th:only-of-type {\n",
       "        vertical-align: middle;\n",
       "    }\n",
       "\n",
       "    .dataframe tbody tr th {\n",
       "        vertical-align: top;\n",
       "    }\n",
       "\n",
       "    .dataframe thead th {\n",
       "        text-align: right;\n",
       "    }\n",
       "</style>\n",
       "<table border=\"1\" class=\"dataframe\">\n",
       "  <thead>\n",
       "    <tr style=\"text-align: right;\">\n",
       "      <th></th>\n",
       "      <th>product_category_name</th>\n",
       "      <th>product_category_name_english</th>\n",
       "    </tr>\n",
       "  </thead>\n",
       "  <tbody>\n",
       "    <tr>\n",
       "      <th>17</th>\n",
       "      <td>fashion_bolsas_e_acessorios</td>\n",
       "      <td>fashion_bags_accessories</td>\n",
       "    </tr>\n",
       "    <tr>\n",
       "      <th>61</th>\n",
       "      <td>musica</td>\n",
       "      <td>music</td>\n",
       "    </tr>\n",
       "    <tr>\n",
       "      <th>49</th>\n",
       "      <td>construcao_ferramentas_seguranca</td>\n",
       "      <td>construction_tools_safety</td>\n",
       "    </tr>\n",
       "  </tbody>\n",
       "</table>\n",
       "</div>"
      ],
      "text/plain": [
       "               product_category_name product_category_name_english\n",
       "17       fashion_bolsas_e_acessorios      fashion_bags_accessories\n",
       "61                            musica                         music\n",
       "49  construcao_ferramentas_seguranca     construction_tools_safety"
      ]
     },
     "execution_count": 62,
     "metadata": {},
     "output_type": "execute_result"
    }
   ],
   "source": [
    "data_product_category = pd.read_csv('./data/product_category_name_translation.csv')\n",
    "print(data_product_category.shape)\n",
    "data_product_category.sample(3)"
   ]
  },
  {
   "cell_type": "markdown",
   "metadata": {},
   "source": [
    "the relation with tables is given by the next erd (Entity Relationship Diagram).\n",
    "\n",
    "<img src=\"./img/entity_relationship_diagram.png\">"
   ]
  },
  {
   "cell_type": "code",
   "execution_count": 63,
   "metadata": {},
   "outputs": [
    {
     "name": "stdout",
     "output_type": "stream",
     "text": [
      "DataBase created name - \"data_modeling\"\n"
     ]
    }
   ],
   "source": [
    "\n",
    "# We crate database with the defined function obtain connection and cursor to execute queries.\n",
    "conn, cur = create_database()"
   ]
  },
  {
   "cell_type": "markdown",
   "metadata": {},
   "source": [
    "<img src=\"./img/tables.png\">"
   ]
  },
  {
   "cell_type": "code",
   "execution_count": 64,
   "metadata": {},
   "outputs": [],
   "source": [
    "# Now we add the data from datasets to our tables, that we created in the previous step.\n",
    "insert_query = ('''INSERT INTO customer(\n",
    "    customer_id,\n",
    "    customer_unique_id,\n",
    "    customer_zip_code_prefix,\n",
    "    customer_city,\n",
    "    customer_state)\n",
    "    VALUES (%s, %s, %s, %s, %s)''')\n",
    "for i, row in data_customers.iterrows():\n",
    "    cur.execute(insert_query, list(row))"
   ]
  },
  {
   "cell_type": "markdown",
   "metadata": {},
   "source": [
    "<img src=\"./img/customer_table.png\">"
   ]
  },
  {
   "cell_type": "code",
   "execution_count": 65,
   "metadata": {},
   "outputs": [],
   "source": [
    "insert_query = ('''INSERT INTO geolocation(\n",
    "    geolocation_zip_code_prefix,\n",
    "    geolocation_lat,\n",
    "    geolocation_lng,\n",
    "    geolocation_city,\n",
    "    geolocation_state)\n",
    "    VALUES (%s, %s, %s, %s, %s)''')\n",
    "for i, row in data_geolocation.iterrows():\n",
    "    cur.execute(insert_query, list(row))"
   ]
  },
  {
   "cell_type": "markdown",
   "metadata": {},
   "source": [
    "<img src=\"./img/geolocation_table.png\">"
   ]
  },
  {
   "cell_type": "code",
   "execution_count": 66,
   "metadata": {},
   "outputs": [],
   "source": [
    "insert_query = ('''INSERT INTO order_items(\n",
    "    order_id,\n",
    "    order_item_id,\n",
    "    product_id,\n",
    "    seller_id,\n",
    "    shipping_limit_date,\n",
    "    price,\n",
    "    freight_value)\n",
    "    VALUES (%s, %s, %s, %s, %s, %s, %s)''')\n",
    "for i, row in data_order_items.iterrows():\n",
    "    cur.execute(insert_query, list(row))"
   ]
  },
  {
   "cell_type": "markdown",
   "metadata": {},
   "source": [
    "<img src=\"./img/order_items_table.png\">"
   ]
  },
  {
   "cell_type": "code",
   "execution_count": 67,
   "metadata": {},
   "outputs": [],
   "source": [
    "insert_query = ('''INSERT INTO payments(\n",
    "    order_id,\n",
    "    payment_sequential,\n",
    "    payment_type,\n",
    "    payment_installments,\n",
    "    payment_value)\n",
    "    VALUES (%s, %s, %s, %s, %s)''')\n",
    "for i, row in data_payments.iterrows():\n",
    "    cur.execute(insert_query, list(row))"
   ]
  },
  {
   "cell_type": "markdown",
   "metadata": {},
   "source": [
    "<img src=\"./img/payments_table.png\">"
   ]
  },
  {
   "cell_type": "code",
   "execution_count": 68,
   "metadata": {},
   "outputs": [],
   "source": [
    "insert_query = ('''INSERT INTO reviews(\n",
    "    review_id,\n",
    "    order_id,\n",
    "    review_score,\n",
    "    review_comment_title,\n",
    "    review_comment_message,\n",
    "    review_creation_date,\n",
    "    review_answer_timestamp)\n",
    "    VALUES (%s, %s, %s, %s, %s, %s, %s)''')\n",
    "for i, row in data_reviews.iterrows():\n",
    "    cur.execute(insert_query, list(row))"
   ]
  },
  {
   "cell_type": "markdown",
   "metadata": {},
   "source": [
    "<img src=\"./img/reviews_table.png\">"
   ]
  },
  {
   "cell_type": "code",
   "execution_count": 69,
   "metadata": {},
   "outputs": [],
   "source": [
    "insert_query = ('''INSERT INTO orders(\n",
    "    order_id,\n",
    "    customer_id,\n",
    "    order_status,\n",
    "    order_purchase_timestamp,\n",
    "    order_approved_at,\n",
    "    order_delivered_carrier_date,\n",
    "    order_delivered_customer_date,\n",
    "    order_estimated_delivery_date)\n",
    "    VALUES (%s, %s, %s, %s, %s, %s, %s, %s)''')\n",
    "for i, row in data_orders.iterrows():\n",
    "    cur.execute(insert_query, list(row))"
   ]
  },
  {
   "cell_type": "markdown",
   "metadata": {},
   "source": [
    "<img src=\"./img/orders_table.png\">"
   ]
  },
  {
   "cell_type": "code",
   "execution_count": 70,
   "metadata": {},
   "outputs": [],
   "source": [
    "insert_query = ('''INSERT INTO products(\n",
    "    product_id,\n",
    "    product_category_name,\n",
    "    product_name_lenght,\n",
    "    product_description_lenght,\n",
    "    product_photos_qty,\n",
    "    product_weight_g,\n",
    "    product_length_cm,\n",
    "    product_height_cm,\n",
    "    product_width_cm)\n",
    "    VALUES (%s, %s, %s, %s, %s, %s, %s, %s, %s)''')\n",
    "for i, row in data_products.iterrows():\n",
    "    cur.execute(insert_query, list(row))"
   ]
  },
  {
   "cell_type": "markdown",
   "metadata": {},
   "source": [
    "<img src=\"./img/products_table.png\">"
   ]
  },
  {
   "cell_type": "code",
   "execution_count": 71,
   "metadata": {},
   "outputs": [],
   "source": [
    "insert_query = ('''INSERT INTO sellers(\n",
    "    seller_id,\n",
    "    seller_zip_code_prefix,\n",
    "    seller_city,\n",
    "    seller_state)\n",
    "    VALUES (%s, %s, %s, %s)''')\n",
    "for i, row in data_sellers.iterrows():\n",
    "    cur.execute(insert_query, list(row))"
   ]
  },
  {
   "cell_type": "markdown",
   "metadata": {},
   "source": [
    "<img src=\"./img/sellers_table.png\">"
   ]
  },
  {
   "cell_type": "code",
   "execution_count": 72,
   "metadata": {},
   "outputs": [],
   "source": [
    "insert_query = ('''INSERT INTO product_category(\n",
    "    product_category_name,\n",
    "    product_category_name_english)\n",
    "    VALUES (%s, %s)''')\n",
    "for i, row in data_product_category.iterrows():\n",
    "    cur.execute(insert_query, list(row))"
   ]
  },
  {
   "cell_type": "markdown",
   "metadata": {},
   "source": [
    "<img src=\"./img/product_category_table.png\">"
   ]
  },
  {
   "cell_type": "code",
   "execution_count": 73,
   "metadata": {},
   "outputs": [],
   "source": [
    "# Closing connection.\n",
    "conn.close()\n",
    "cur.close()"
   ]
  },
  {
   "cell_type": "code",
   "execution_count": 74,
   "metadata": {},
   "outputs": [],
   "source": [
    "# Droping Database, its no use to save it.\n",
    "conn = psycopg2.connect('host = localhost dbname = postgres user = postgres password = root')\n",
    "conn.set_session(autocommit=True)\n",
    "cur = conn.cursor()\n",
    "\n",
    "cur.execute('DROP DATABASE data_modeling;')"
   ]
  },
  {
   "cell_type": "markdown",
   "metadata": {},
   "source": [
    "# Blibliography\n",
    "\n",
    "- https://www.postgresqltutorial.com/\n",
    "- https://launchschool.com/books/sql_first_edition\n",
    "- https://launchschool.com/books/sql"
   ]
  },
  {
   "cell_type": "markdown",
   "metadata": {},
   "source": []
  }
 ],
 "metadata": {
  "kernelspec": {
   "display_name": "Python 3.8.13 ('dhdsblend2021')",
   "language": "python",
   "name": "python3"
  },
  "language_info": {
   "codemirror_mode": {
    "name": "ipython",
    "version": 3
   },
   "file_extension": ".py",
   "mimetype": "text/x-python",
   "name": "python",
   "nbconvert_exporter": "python",
   "pygments_lexer": "ipython3",
   "version": "3.8.13"
  },
  "orig_nbformat": 4,
  "vscode": {
   "interpreter": {
    "hash": "9689ec58c8207ae0e5df44f3c0da8809222a7a4816f0f8cce8ef27c7a9266816"
   }
  }
 },
 "nbformat": 4,
 "nbformat_minor": 2
}
