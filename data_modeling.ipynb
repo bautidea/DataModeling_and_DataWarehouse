{
 "cells": [
  {
   "cell_type": "markdown",
   "metadata": {},
   "source": [
    "Importing libraries"
   ]
  },
  {
   "cell_type": "code",
   "execution_count": 14,
   "metadata": {},
   "outputs": [],
   "source": [
    "import pandas as pd\n",
    "\n",
    "import psycopg2"
   ]
  },
  {
   "cell_type": "markdown",
   "metadata": {},
   "source": [
    "Now we procede to read and import all tables."
   ]
  },
  {
   "cell_type": "code",
   "execution_count": 15,
   "metadata": {},
   "outputs": [
    {
     "name": "stdout",
     "output_type": "stream",
     "text": [
      "(9402, 2)\n"
     ]
    },
    {
     "data": {
      "text/html": [
       "<div>\n",
       "<style scoped>\n",
       "    .dataframe tbody tr th:only-of-type {\n",
       "        vertical-align: middle;\n",
       "    }\n",
       "\n",
       "    .dataframe tbody tr th {\n",
       "        vertical-align: top;\n",
       "    }\n",
       "\n",
       "    .dataframe thead th {\n",
       "        text-align: right;\n",
       "    }\n",
       "</style>\n",
       "<table border=\"1\" class=\"dataframe\">\n",
       "  <thead>\n",
       "    <tr style=\"text-align: right;\">\n",
       "      <th></th>\n",
       "      <th>Friend 1</th>\n",
       "      <th>Friend 2</th>\n",
       "    </tr>\n",
       "  </thead>\n",
       "  <tbody>\n",
       "    <tr>\n",
       "      <th>1397</th>\n",
       "      <td>149</td>\n",
       "      <td>776</td>\n",
       "    </tr>\n",
       "    <tr>\n",
       "      <th>1610</th>\n",
       "      <td>171</td>\n",
       "      <td>53</td>\n",
       "    </tr>\n",
       "    <tr>\n",
       "      <th>8888</th>\n",
       "      <td>948</td>\n",
       "      <td>13</td>\n",
       "    </tr>\n",
       "    <tr>\n",
       "      <th>1185</th>\n",
       "      <td>125</td>\n",
       "      <td>722</td>\n",
       "    </tr>\n",
       "    <tr>\n",
       "      <th>9158</th>\n",
       "      <td>978</td>\n",
       "      <td>539</td>\n",
       "    </tr>\n",
       "    <tr>\n",
       "      <th>4849</th>\n",
       "      <td>524</td>\n",
       "      <td>872</td>\n",
       "    </tr>\n",
       "    <tr>\n",
       "      <th>6811</th>\n",
       "      <td>724</td>\n",
       "      <td>230</td>\n",
       "    </tr>\n",
       "    <tr>\n",
       "      <th>5649</th>\n",
       "      <td>609</td>\n",
       "      <td>959</td>\n",
       "    </tr>\n",
       "  </tbody>\n",
       "</table>\n",
       "</div>"
      ],
      "text/plain": [
       "      Friend 1  Friend 2\n",
       "1397       149       776\n",
       "1610       171        53\n",
       "8888       948        13\n",
       "1185       125       722\n",
       "9158       978       539\n",
       "4849       524       872\n",
       "6811       724       230\n",
       "5649       609       959"
      ]
     },
     "execution_count": 15,
     "metadata": {},
     "output_type": "execute_result"
    }
   ],
   "source": [
    "data_friends = pd.read_csv('./tables/friends_table.csv')\n",
    "print(data_friends.shape)\n",
    "data_friends.sample(8)"
   ]
  },
  {
   "cell_type": "code",
   "execution_count": 16,
   "metadata": {},
   "outputs": [
    {
     "name": "stdout",
     "output_type": "stream",
     "text": [
      "(13158, 3)\n"
     ]
    },
    {
     "data": {
      "text/html": [
       "<div>\n",
       "<style scoped>\n",
       "    .dataframe tbody tr th:only-of-type {\n",
       "        vertical-align: middle;\n",
       "    }\n",
       "\n",
       "    .dataframe tbody tr th {\n",
       "        vertical-align: top;\n",
       "    }\n",
       "\n",
       "    .dataframe thead th {\n",
       "        text-align: right;\n",
       "    }\n",
       "</style>\n",
       "<table border=\"1\" class=\"dataframe\">\n",
       "  <thead>\n",
       "    <tr style=\"text-align: right;\">\n",
       "      <th></th>\n",
       "      <th>User</th>\n",
       "      <th>Post Type</th>\n",
       "      <th>Post Date</th>\n",
       "    </tr>\n",
       "  </thead>\n",
       "  <tbody>\n",
       "    <tr>\n",
       "      <th>8270</th>\n",
       "      <td>633</td>\n",
       "      <td>Text</td>\n",
       "      <td>1588165715</td>\n",
       "    </tr>\n",
       "    <tr>\n",
       "      <th>6199</th>\n",
       "      <td>472</td>\n",
       "      <td>Status_Change</td>\n",
       "      <td>1588165818</td>\n",
       "    </tr>\n",
       "    <tr>\n",
       "      <th>2024</th>\n",
       "      <td>158</td>\n",
       "      <td>Gif</td>\n",
       "      <td>1588165700</td>\n",
       "    </tr>\n",
       "    <tr>\n",
       "      <th>1614</th>\n",
       "      <td>128</td>\n",
       "      <td>Video</td>\n",
       "      <td>1588165450</td>\n",
       "    </tr>\n",
       "    <tr>\n",
       "      <th>4631</th>\n",
       "      <td>354</td>\n",
       "      <td>Text</td>\n",
       "      <td>1588163340</td>\n",
       "    </tr>\n",
       "    <tr>\n",
       "      <th>11194</th>\n",
       "      <td>856</td>\n",
       "      <td>Status_Change</td>\n",
       "      <td>1588167598</td>\n",
       "    </tr>\n",
       "    <tr>\n",
       "      <th>11360</th>\n",
       "      <td>868</td>\n",
       "      <td>Image</td>\n",
       "      <td>1588166172</td>\n",
       "    </tr>\n",
       "    <tr>\n",
       "      <th>344</th>\n",
       "      <td>26</td>\n",
       "      <td>Text</td>\n",
       "      <td>1588164967</td>\n",
       "    </tr>\n",
       "  </tbody>\n",
       "</table>\n",
       "</div>"
      ],
      "text/plain": [
       "       User      Post Type   Post Date\n",
       "8270    633           Text  1588165715\n",
       "6199    472  Status_Change  1588165818\n",
       "2024    158            Gif  1588165700\n",
       "1614    128          Video  1588165450\n",
       "4631    354           Text  1588163340\n",
       "11194   856  Status_Change  1588167598\n",
       "11360   868          Image  1588166172\n",
       "344      26           Text  1588164967"
      ]
     },
     "execution_count": 16,
     "metadata": {},
     "output_type": "execute_result"
    }
   ],
   "source": [
    "data_post = pd.read_csv('./tables/posts_table.csv')\n",
    "print(data_post.shape)\n",
    "data_post.sample(8)"
   ]
  },
  {
   "cell_type": "code",
   "execution_count": 17,
   "metadata": {},
   "outputs": [
    {
     "name": "stdout",
     "output_type": "stream",
     "text": [
      "(26365, 3)\n"
     ]
    },
    {
     "data": {
      "text/html": [
       "<div>\n",
       "<style scoped>\n",
       "    .dataframe tbody tr th:only-of-type {\n",
       "        vertical-align: middle;\n",
       "    }\n",
       "\n",
       "    .dataframe tbody tr th {\n",
       "        vertical-align: top;\n",
       "    }\n",
       "\n",
       "    .dataframe thead th {\n",
       "        text-align: right;\n",
       "    }\n",
       "</style>\n",
       "<table border=\"1\" class=\"dataframe\">\n",
       "  <thead>\n",
       "    <tr style=\"text-align: right;\">\n",
       "      <th></th>\n",
       "      <th>User</th>\n",
       "      <th>Reaction Type</th>\n",
       "      <th>Reaction Date</th>\n",
       "    </tr>\n",
       "  </thead>\n",
       "  <tbody>\n",
       "    <tr>\n",
       "      <th>6242</th>\n",
       "      <td>8729</td>\n",
       "      <td>Comment</td>\n",
       "      <td>1588166524</td>\n",
       "    </tr>\n",
       "    <tr>\n",
       "      <th>16334</th>\n",
       "      <td>3592</td>\n",
       "      <td>Emoticon</td>\n",
       "      <td>1588161989</td>\n",
       "    </tr>\n",
       "    <tr>\n",
       "      <th>13033</th>\n",
       "      <td>6988</td>\n",
       "      <td>Emoticon</td>\n",
       "      <td>1588161128</td>\n",
       "    </tr>\n",
       "    <tr>\n",
       "      <th>11484</th>\n",
       "      <td>734</td>\n",
       "      <td>Emoticon</td>\n",
       "      <td>1588166429</td>\n",
       "    </tr>\n",
       "    <tr>\n",
       "      <th>2336</th>\n",
       "      <td>679</td>\n",
       "      <td>Comment</td>\n",
       "      <td>1588167753</td>\n",
       "    </tr>\n",
       "    <tr>\n",
       "      <th>11996</th>\n",
       "      <td>1167</td>\n",
       "      <td>Comment</td>\n",
       "      <td>1588166520</td>\n",
       "    </tr>\n",
       "    <tr>\n",
       "      <th>22689</th>\n",
       "      <td>714</td>\n",
       "      <td>Comment</td>\n",
       "      <td>1588162735</td>\n",
       "    </tr>\n",
       "    <tr>\n",
       "      <th>3437</th>\n",
       "      <td>667</td>\n",
       "      <td>Like</td>\n",
       "      <td>1588165650</td>\n",
       "    </tr>\n",
       "  </tbody>\n",
       "</table>\n",
       "</div>"
      ],
      "text/plain": [
       "       User Reaction Type  Reaction Date\n",
       "6242   8729       Comment     1588166524\n",
       "16334  3592      Emoticon     1588161989\n",
       "13033  6988      Emoticon     1588161128\n",
       "11484   734      Emoticon     1588166429\n",
       "2336    679       Comment     1588167753\n",
       "11996  1167       Comment     1588166520\n",
       "22689   714       Comment     1588162735\n",
       "3437    667          Like     1588165650"
      ]
     },
     "execution_count": 17,
     "metadata": {},
     "output_type": "execute_result"
    }
   ],
   "source": [
    "data_reactions = pd.read_csv('./tables/reactions_table.csv')\n",
    "print(data_reactions.shape)\n",
    "data_reactions.sample(8)"
   ]
  },
  {
   "cell_type": "code",
   "execution_count": 18,
   "metadata": {},
   "outputs": [
    {
     "name": "stdout",
     "output_type": "stream",
     "text": [
      "(1000, 4)\n"
     ]
    },
    {
     "data": {
      "text/html": [
       "<div>\n",
       "<style scoped>\n",
       "    .dataframe tbody tr th:only-of-type {\n",
       "        vertical-align: middle;\n",
       "    }\n",
       "\n",
       "    .dataframe tbody tr th {\n",
       "        vertical-align: top;\n",
       "    }\n",
       "\n",
       "    .dataframe thead th {\n",
       "        text-align: right;\n",
       "    }\n",
       "</style>\n",
       "<table border=\"1\" class=\"dataframe\">\n",
       "  <thead>\n",
       "    <tr style=\"text-align: right;\">\n",
       "      <th></th>\n",
       "      <th>Surname</th>\n",
       "      <th>Name</th>\n",
       "      <th>Age</th>\n",
       "      <th>Subscription Date</th>\n",
       "    </tr>\n",
       "  </thead>\n",
       "  <tbody>\n",
       "    <tr>\n",
       "      <th>55</th>\n",
       "      <td>Wellington</td>\n",
       "      <td>Zoe</td>\n",
       "      <td>34</td>\n",
       "      <td>1588157419</td>\n",
       "    </tr>\n",
       "    <tr>\n",
       "      <th>936</th>\n",
       "      <td>Bond</td>\n",
       "      <td>Franz</td>\n",
       "      <td>30</td>\n",
       "      <td>1588159326</td>\n",
       "    </tr>\n",
       "    <tr>\n",
       "      <th>497</th>\n",
       "      <td>Kirk</td>\n",
       "      <td>Zoe</td>\n",
       "      <td>21</td>\n",
       "      <td>1588150514</td>\n",
       "    </tr>\n",
       "    <tr>\n",
       "      <th>925</th>\n",
       "      <td>Roth</td>\n",
       "      <td>Simon</td>\n",
       "      <td>40</td>\n",
       "      <td>1588162711</td>\n",
       "    </tr>\n",
       "    <tr>\n",
       "      <th>287</th>\n",
       "      <td>Mueller</td>\n",
       "      <td>Francine</td>\n",
       "      <td>20</td>\n",
       "      <td>1588157962</td>\n",
       "    </tr>\n",
       "    <tr>\n",
       "      <th>902</th>\n",
       "      <td>Beierlorzer</td>\n",
       "      <td>Simon</td>\n",
       "      <td>37</td>\n",
       "      <td>1588157275</td>\n",
       "    </tr>\n",
       "    <tr>\n",
       "      <th>316</th>\n",
       "      <td>Kirk</td>\n",
       "      <td>Zoe</td>\n",
       "      <td>24</td>\n",
       "      <td>1588145636</td>\n",
       "    </tr>\n",
       "    <tr>\n",
       "      <th>67</th>\n",
       "      <td>Pomme</td>\n",
       "      <td>Andreas</td>\n",
       "      <td>35</td>\n",
       "      <td>1588168007</td>\n",
       "    </tr>\n",
       "  </tbody>\n",
       "</table>\n",
       "</div>"
      ],
      "text/plain": [
       "         Surname      Name  Age  Subscription Date\n",
       "55    Wellington       Zoe   34         1588157419\n",
       "936         Bond     Franz   30         1588159326\n",
       "497         Kirk       Zoe   21         1588150514\n",
       "925         Roth     Simon   40         1588162711\n",
       "287      Mueller  Francine   20         1588157962\n",
       "902  Beierlorzer     Simon   37         1588157275\n",
       "316         Kirk       Zoe   24         1588145636\n",
       "67         Pomme   Andreas   35         1588168007"
      ]
     },
     "execution_count": 18,
     "metadata": {},
     "output_type": "execute_result"
    }
   ],
   "source": [
    "data_user = pd.read_csv('./tables/user_table.csv')\n",
    "print(data_user.shape)\n",
    "data_user.sample(8)"
   ]
  },
  {
   "cell_type": "markdown",
   "metadata": {},
   "source": [
    "the relation with tables is given by user id, from table 'data_user'. Going to check if user has the same range of values in each table, so we can ensure that the index from 'data_user' table is the relational key between tables."
   ]
  },
  {
   "cell_type": "code",
   "execution_count": 19,
   "metadata": {},
   "outputs": [
    {
     "name": "stdout",
     "output_type": "stream",
     "text": [
      "Lenght Friend 1: 1000\n",
      "Lenght Friend 2: 1000\n"
     ]
    }
   ],
   "source": [
    "# Grouping with 'Friend 1' values, to check if length is equal to 'data_user' index.\n",
    "print('Lenght Friend 1:',len(data_friends['Friend 1'].value_counts()))\n",
    "\n",
    "# Same with 'Friend 2'.\n",
    "print('Lenght Friend 2:',len(data_friends['Friend 2'].value_counts()))"
   ]
  },
  {
   "cell_type": "markdown",
   "metadata": {},
   "source": [
    "Here i checked that the values on friends tables matches with the index of users table. \n",
    "\n",
    "In 'data_user' table the index is my relation with all tables."
   ]
  },
  {
   "cell_type": "code",
   "execution_count": 20,
   "metadata": {},
   "outputs": [
    {
     "data": {
      "text/html": [
       "<div>\n",
       "<style scoped>\n",
       "    .dataframe tbody tr th:only-of-type {\n",
       "        vertical-align: middle;\n",
       "    }\n",
       "\n",
       "    .dataframe tbody tr th {\n",
       "        vertical-align: top;\n",
       "    }\n",
       "\n",
       "    .dataframe thead th {\n",
       "        text-align: right;\n",
       "    }\n",
       "</style>\n",
       "<table border=\"1\" class=\"dataframe\">\n",
       "  <thead>\n",
       "    <tr style=\"text-align: right;\">\n",
       "      <th></th>\n",
       "      <th>Surname</th>\n",
       "      <th>Name</th>\n",
       "      <th>Age</th>\n",
       "      <th>Subscription Date</th>\n",
       "      <th>User</th>\n",
       "    </tr>\n",
       "  </thead>\n",
       "  <tbody>\n",
       "    <tr>\n",
       "      <th>197</th>\n",
       "      <td>Stephenson</td>\n",
       "      <td>Ali</td>\n",
       "      <td>24</td>\n",
       "      <td>1588159417</td>\n",
       "      <td>197</td>\n",
       "    </tr>\n",
       "    <tr>\n",
       "      <th>486</th>\n",
       "      <td>Kirk</td>\n",
       "      <td>Francine</td>\n",
       "      <td>37</td>\n",
       "      <td>1588161267</td>\n",
       "      <td>486</td>\n",
       "    </tr>\n",
       "    <tr>\n",
       "      <th>935</th>\n",
       "      <td>Pomme</td>\n",
       "      <td>Sarah</td>\n",
       "      <td>32</td>\n",
       "      <td>1588155083</td>\n",
       "      <td>935</td>\n",
       "    </tr>\n",
       "  </tbody>\n",
       "</table>\n",
       "</div>"
      ],
      "text/plain": [
       "        Surname      Name  Age  Subscription Date  User\n",
       "197  Stephenson       Ali   24         1588159417   197\n",
       "486        Kirk  Francine   37         1588161267   486\n",
       "935       Pomme     Sarah   32         1588155083   935"
      ]
     },
     "execution_count": 20,
     "metadata": {},
     "output_type": "execute_result"
    }
   ],
   "source": [
    "# Creating new column, so it can be easyer to perform unions.\n",
    "data_user['User'] = data_user.index\n",
    "data_user.sample(3)"
   ]
  },
  {
   "cell_type": "code",
   "execution_count": null,
   "metadata": {},
   "outputs": [],
   "source": []
  }
 ],
 "metadata": {
  "kernelspec": {
   "display_name": "Python 3.8.13 ('dhdsblend2021')",
   "language": "python",
   "name": "python3"
  },
  "language_info": {
   "codemirror_mode": {
    "name": "ipython",
    "version": 3
   },
   "file_extension": ".py",
   "mimetype": "text/x-python",
   "name": "python",
   "nbconvert_exporter": "python",
   "pygments_lexer": "ipython3",
   "version": "3.8.13"
  },
  "orig_nbformat": 4,
  "vscode": {
   "interpreter": {
    "hash": "9689ec58c8207ae0e5df44f3c0da8809222a7a4816f0f8cce8ef27c7a9266816"
   }
  }
 },
 "nbformat": 4,
 "nbformat_minor": 2
}
