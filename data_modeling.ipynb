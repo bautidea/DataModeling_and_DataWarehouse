{
 "cells": [
  {
   "cell_type": "markdown",
   "metadata": {},
   "source": [
    "Importing libraries"
   ]
  },
  {
   "cell_type": "code",
   "execution_count": 54,
   "metadata": {},
   "outputs": [],
   "source": [
    "import pandas as pd\n",
    "\n",
    "import psycopg2\n",
    "import os"
   ]
  },
  {
   "cell_type": "markdown",
   "metadata": {},
   "source": [
    "Defining functions."
   ]
  },
  {
   "cell_type": "code",
   "execution_count": 55,
   "metadata": {},
   "outputs": [],
   "source": [
    "def create_database():\n",
    "    try:\n",
    "        # Connect to default database\n",
    "        conn = psycopg2.connect('host = localhost dbname = postgres user = postgres password = root')\n",
    "        conn.set_session(autocommit=True)\n",
    "        cur = conn.cursor()\n",
    "        \n",
    "        # Creating database\n",
    "        cur.execute('DROP DATABASE IF EXISTS data_modeling') \n",
    "        cur.execute('CREATE DATABASE data_modeling')\n",
    "        \n",
    "        # Closing connection to database.\n",
    "        conn.close()\n",
    "        \n",
    "        # Connecting to created database.\n",
    "        conn = psycopg2.connect('host = localhost dbname = data_modeling user = postgres password = root')\n",
    "        conn.set_session(autocommit=True)\n",
    "        cur = conn.cursor()\n",
    "\n",
    "        print('DataBase created name - \"data_modeling\"')\n",
    "        \n",
    "        # Creating tables.\n",
    "        customer_table_create = ('''CREATE TABLE IF NOT EXISTS customer(\n",
    "            customer_id VARCHAR PRIMARY KEY,\n",
    "            customer_unique_id VARCHAR,\n",
    "            customer_zip_code_prefix INT,\n",
    "            customer_city VARCHAR,\n",
    "            customer_state VARCHAR\n",
    "        )''')\n",
    "        cur.execute(customer_table_create)\n",
    "        \n",
    "        geolocation_table_create = ('''CREATE TABLE IF NOT EXISTS geolocation(\n",
    "            geolocation_zip_code_prefix VARCHAR,\n",
    "            geolocation_lat FLOAT,\n",
    "            geolocation_lng FLOAT,\n",
    "            geolocation_city VARCHAR,\n",
    "            geolocation_state VARCHAR\n",
    "        )''')\n",
    "        cur.execute(geolocation_table_create)\n",
    "        \n",
    "        order_items_table_create = ('''CREATE TABLE IF NOT EXISTS order_items(\n",
    "            order_id VARCHAR,\n",
    "            order_item_id INT,\n",
    "            product_id VARCHAR,\n",
    "            seller_id VARCHAR,\n",
    "            shipping_limit_date DATE,\n",
    "            price FLOAT,\n",
    "            freight_value FLOAT\n",
    "        )''')\n",
    "        cur.execute(order_items_table_create)\n",
    "        \n",
    "        payments_table_create = ('''CREATE TABLE IF NOT EXISTS payments(\n",
    "            order_id VARCHAR,\n",
    "            payment_sequential int,\n",
    "            payment_type VARCHAR,\n",
    "            payment_installments INT,\n",
    "            payment_value FLOAT\n",
    "        )''')\n",
    "        cur.execute(payments_table_create)\n",
    "        \n",
    "        reviews_table_create = ('''CREATE TABLE IF NOT EXISTS reviews(\n",
    "            review_id VARCHAR,\n",
    "            order_id VARCHAR,\n",
    "            review_score INT,\n",
    "            review_comment_title VARCHAR,\n",
    "            review_comment_message VARCHAR,\n",
    "            review_creation_date VARCHAR,\n",
    "            review_answer_timestamp VARCHAR\n",
    "        )''')\n",
    "        cur.execute(reviews_table_create)\n",
    "        \n",
    "        orders_table_create = ('''CREATE TABLE IF NOT EXISTS orders(\n",
    "            order_id VARCHAR PRIMARY KEY,\n",
    "            customer_id VARCHAR,\n",
    "            order_status VARCHAR,\n",
    "            order_purchase_timestamp VARCHAR,\n",
    "            order_approved_at VARCHAR,\n",
    "            order_delivered_carrier_date VARCHAR,\n",
    "            order_delivered_customer_date VARCHAR,\n",
    "            order_estimated_delivery_date VARCHAR\n",
    "        )''')\n",
    "        cur.execute(orders_table_create)\n",
    "        \n",
    "        products_table_create = ('''CREATE TABLE IF NOT EXISTS products(\n",
    "            product_id VARCHAR PRIMARY KEY,\n",
    "            product_category_name VARCHAR,\n",
    "            product_name_lenght FLOAT,\n",
    "            product_description_lenght FLOAT,\n",
    "            product_photos_qty FLOAT,\n",
    "            product_weight_g FLOAT,\n",
    "            product_length_cm FLOAT,\n",
    "            product_height_cm FLOAT,\n",
    "            product_width_cm FLOAT\n",
    "        )''')\n",
    "        cur.execute(products_table_create)\n",
    "        \n",
    "        sellers_table_create = ('''CREATE TABLE IF NOT EXISTS sellers(\n",
    "            seller_id VARCHAR PRIMARY KEY,\n",
    "            seller_zip_code_prefix int,\n",
    "            seller_city VARCHAR,\n",
    "            seller_state VARCHAR\n",
    "        )''')\n",
    "        cur.execute(sellers_table_create)\n",
    "        \n",
    "        product_category_table_create = ('''CREATE TABLE IF NOT EXISTS product_category(\n",
    "            product_category_name VARCHAR PRIMARY KEY,\n",
    "            product_category_name_english VARCHAR\n",
    "        )''')\n",
    "        cur.execute(product_category_table_create)\n",
    "        \n",
    "    except psycopg2.Error as e:\n",
    "        print('Error creating DataBase')\n",
    "        print(e)\n",
    "    \n",
    "    return conn, cur"
   ]
  },
  {
   "cell_type": "markdown",
   "metadata": {},
   "source": [
    "Now we procede to read and import all tables."
   ]
  },
  {
   "cell_type": "code",
   "execution_count": 56,
   "metadata": {},
   "outputs": [
    {
     "name": "stdout",
     "output_type": "stream",
     "text": [
      "(10000, 5)\n"
     ]
    },
    {
     "data": {
      "text/html": [
       "<div>\n",
       "<style scoped>\n",
       "    .dataframe tbody tr th:only-of-type {\n",
       "        vertical-align: middle;\n",
       "    }\n",
       "\n",
       "    .dataframe tbody tr th {\n",
       "        vertical-align: top;\n",
       "    }\n",
       "\n",
       "    .dataframe thead th {\n",
       "        text-align: right;\n",
       "    }\n",
       "</style>\n",
       "<table border=\"1\" class=\"dataframe\">\n",
       "  <thead>\n",
       "    <tr style=\"text-align: right;\">\n",
       "      <th></th>\n",
       "      <th>customer_id</th>\n",
       "      <th>customer_unique_id</th>\n",
       "      <th>customer_zip_code_prefix</th>\n",
       "      <th>customer_city</th>\n",
       "      <th>customer_state</th>\n",
       "    </tr>\n",
       "  </thead>\n",
       "  <tbody>\n",
       "    <tr>\n",
       "      <th>4115</th>\n",
       "      <td>6e6dc62a9abb771cb96614a627d5cf4c</td>\n",
       "      <td>b35290b39d5d7004aa3cd32858dc0053</td>\n",
       "      <td>7240</td>\n",
       "      <td>guarulhos</td>\n",
       "      <td>SP</td>\n",
       "    </tr>\n",
       "    <tr>\n",
       "      <th>5514</th>\n",
       "      <td>5ffc28dba523459f96579e4af297055b</td>\n",
       "      <td>5a2dabee1b75af89efb14fe554b6044b</td>\n",
       "      <td>5798</td>\n",
       "      <td>sao paulo</td>\n",
       "      <td>SP</td>\n",
       "    </tr>\n",
       "    <tr>\n",
       "      <th>239</th>\n",
       "      <td>9559221419cf73261de39b024545b1b3</td>\n",
       "      <td>9aff27e32725e7f7c395e0a79a5d173d</td>\n",
       "      <td>22620</td>\n",
       "      <td>rio de janeiro</td>\n",
       "      <td>RJ</td>\n",
       "    </tr>\n",
       "  </tbody>\n",
       "</table>\n",
       "</div>"
      ],
      "text/plain": [
       "                           customer_id                customer_unique_id  \\\n",
       "4115  6e6dc62a9abb771cb96614a627d5cf4c  b35290b39d5d7004aa3cd32858dc0053   \n",
       "5514  5ffc28dba523459f96579e4af297055b  5a2dabee1b75af89efb14fe554b6044b   \n",
       "239   9559221419cf73261de39b024545b1b3  9aff27e32725e7f7c395e0a79a5d173d   \n",
       "\n",
       "      customer_zip_code_prefix   customer_city customer_state  \n",
       "4115                      7240       guarulhos             SP  \n",
       "5514                      5798       sao paulo             SP  \n",
       "239                      22620  rio de janeiro             RJ  "
      ]
     },
     "execution_count": 56,
     "metadata": {},
     "output_type": "execute_result"
    }
   ],
   "source": [
    "data_customers = pd.read_csv('./data/olist_customers_dataset.csv')\n",
    "data_customers = data_customers.iloc[0:10000,:]\n",
    "print(data_customers.shape)\n",
    "data_customers.sample(3)"
   ]
  },
  {
   "cell_type": "code",
   "execution_count": 57,
   "metadata": {},
   "outputs": [
    {
     "name": "stdout",
     "output_type": "stream",
     "text": [
      "(10000, 5)\n"
     ]
    },
    {
     "data": {
      "text/html": [
       "<div>\n",
       "<style scoped>\n",
       "    .dataframe tbody tr th:only-of-type {\n",
       "        vertical-align: middle;\n",
       "    }\n",
       "\n",
       "    .dataframe tbody tr th {\n",
       "        vertical-align: top;\n",
       "    }\n",
       "\n",
       "    .dataframe thead th {\n",
       "        text-align: right;\n",
       "    }\n",
       "</style>\n",
       "<table border=\"1\" class=\"dataframe\">\n",
       "  <thead>\n",
       "    <tr style=\"text-align: right;\">\n",
       "      <th></th>\n",
       "      <th>geolocation_zip_code_prefix</th>\n",
       "      <th>geolocation_lat</th>\n",
       "      <th>geolocation_lng</th>\n",
       "      <th>geolocation_city</th>\n",
       "      <th>geolocation_state</th>\n",
       "    </tr>\n",
       "  </thead>\n",
       "  <tbody>\n",
       "    <tr>\n",
       "      <th>2835</th>\n",
       "      <td>1128</td>\n",
       "      <td>-23.524942</td>\n",
       "      <td>-46.645820</td>\n",
       "      <td>sao paulo</td>\n",
       "      <td>SP</td>\n",
       "    </tr>\n",
       "    <tr>\n",
       "      <th>2810</th>\n",
       "      <td>1153</td>\n",
       "      <td>-23.530316</td>\n",
       "      <td>-46.653287</td>\n",
       "      <td>sao paulo</td>\n",
       "      <td>SP</td>\n",
       "    </tr>\n",
       "    <tr>\n",
       "      <th>4539</th>\n",
       "      <td>1232</td>\n",
       "      <td>-23.536767</td>\n",
       "      <td>-46.655073</td>\n",
       "      <td>sao paulo</td>\n",
       "      <td>SP</td>\n",
       "    </tr>\n",
       "  </tbody>\n",
       "</table>\n",
       "</div>"
      ],
      "text/plain": [
       "      geolocation_zip_code_prefix  geolocation_lat  geolocation_lng  \\\n",
       "2835                         1128       -23.524942       -46.645820   \n",
       "2810                         1153       -23.530316       -46.653287   \n",
       "4539                         1232       -23.536767       -46.655073   \n",
       "\n",
       "     geolocation_city geolocation_state  \n",
       "2835        sao paulo                SP  \n",
       "2810        sao paulo                SP  \n",
       "4539        sao paulo                SP  "
      ]
     },
     "execution_count": 57,
     "metadata": {},
     "output_type": "execute_result"
    }
   ],
   "source": [
    "data_geolocation = pd.read_csv('./data/olist_geolocation_dataset.csv')\n",
    "data_geolocation = data_geolocation.iloc[0:10000,:]\n",
    "print(data_geolocation.shape)\n",
    "data_geolocation.sample(3)"
   ]
  },
  {
   "cell_type": "code",
   "execution_count": 58,
   "metadata": {},
   "outputs": [
    {
     "name": "stdout",
     "output_type": "stream",
     "text": [
      "(10000, 7)\n"
     ]
    },
    {
     "data": {
      "text/html": [
       "<div>\n",
       "<style scoped>\n",
       "    .dataframe tbody tr th:only-of-type {\n",
       "        vertical-align: middle;\n",
       "    }\n",
       "\n",
       "    .dataframe tbody tr th {\n",
       "        vertical-align: top;\n",
       "    }\n",
       "\n",
       "    .dataframe thead th {\n",
       "        text-align: right;\n",
       "    }\n",
       "</style>\n",
       "<table border=\"1\" class=\"dataframe\">\n",
       "  <thead>\n",
       "    <tr style=\"text-align: right;\">\n",
       "      <th></th>\n",
       "      <th>order_id</th>\n",
       "      <th>order_item_id</th>\n",
       "      <th>product_id</th>\n",
       "      <th>seller_id</th>\n",
       "      <th>shipping_limit_date</th>\n",
       "      <th>price</th>\n",
       "      <th>freight_value</th>\n",
       "    </tr>\n",
       "  </thead>\n",
       "  <tbody>\n",
       "    <tr>\n",
       "      <th>3723</th>\n",
       "      <td>0872d0faafe0cb56e6f2c594cca1522c</td>\n",
       "      <td>1</td>\n",
       "      <td>fb783e3e545937820b57fe539b2c5a6c</td>\n",
       "      <td>da8622b14eb17ae2831f4ac5b9dab84a</td>\n",
       "      <td>2017-10-05 12:28:17</td>\n",
       "      <td>109.9</td>\n",
       "      <td>18.02</td>\n",
       "    </tr>\n",
       "    <tr>\n",
       "      <th>3098</th>\n",
       "      <td>06fc554a38ed6385ac2b121049b5cad5</td>\n",
       "      <td>1</td>\n",
       "      <td>7eb96ea641252f20b26fd6878d009a1d</td>\n",
       "      <td>955fee9216a65b617aa5c0531780ce60</td>\n",
       "      <td>2018-06-28 13:56:03</td>\n",
       "      <td>35.0</td>\n",
       "      <td>8.41</td>\n",
       "    </tr>\n",
       "    <tr>\n",
       "      <th>5458</th>\n",
       "      <td>0c57cbfd927d9e62af8beee6d48920b7</td>\n",
       "      <td>5</td>\n",
       "      <td>1b0e9a414e59a00b13262ffb248ed9b4</td>\n",
       "      <td>bbaff50f3b708fda865918715276cd87</td>\n",
       "      <td>2018-08-12 21:50:13</td>\n",
       "      <td>26.0</td>\n",
       "      <td>7.44</td>\n",
       "    </tr>\n",
       "  </tbody>\n",
       "</table>\n",
       "</div>"
      ],
      "text/plain": [
       "                              order_id  order_item_id  \\\n",
       "3723  0872d0faafe0cb56e6f2c594cca1522c              1   \n",
       "3098  06fc554a38ed6385ac2b121049b5cad5              1   \n",
       "5458  0c57cbfd927d9e62af8beee6d48920b7              5   \n",
       "\n",
       "                            product_id                         seller_id  \\\n",
       "3723  fb783e3e545937820b57fe539b2c5a6c  da8622b14eb17ae2831f4ac5b9dab84a   \n",
       "3098  7eb96ea641252f20b26fd6878d009a1d  955fee9216a65b617aa5c0531780ce60   \n",
       "5458  1b0e9a414e59a00b13262ffb248ed9b4  bbaff50f3b708fda865918715276cd87   \n",
       "\n",
       "      shipping_limit_date  price  freight_value  \n",
       "3723  2017-10-05 12:28:17  109.9          18.02  \n",
       "3098  2018-06-28 13:56:03   35.0           8.41  \n",
       "5458  2018-08-12 21:50:13   26.0           7.44  "
      ]
     },
     "execution_count": 58,
     "metadata": {},
     "output_type": "execute_result"
    }
   ],
   "source": [
    "data_order_items = pd.read_csv('./data/olist_order_items_dataset.csv')\n",
    "data_order_items = data_order_items.iloc[0:10000,:]\n",
    "print(data_order_items.shape)\n",
    "data_order_items.sample(3)"
   ]
  },
  {
   "cell_type": "code",
   "execution_count": 59,
   "metadata": {},
   "outputs": [
    {
     "name": "stdout",
     "output_type": "stream",
     "text": [
      "(10000, 5)\n"
     ]
    },
    {
     "data": {
      "text/html": [
       "<div>\n",
       "<style scoped>\n",
       "    .dataframe tbody tr th:only-of-type {\n",
       "        vertical-align: middle;\n",
       "    }\n",
       "\n",
       "    .dataframe tbody tr th {\n",
       "        vertical-align: top;\n",
       "    }\n",
       "\n",
       "    .dataframe thead th {\n",
       "        text-align: right;\n",
       "    }\n",
       "</style>\n",
       "<table border=\"1\" class=\"dataframe\">\n",
       "  <thead>\n",
       "    <tr style=\"text-align: right;\">\n",
       "      <th></th>\n",
       "      <th>order_id</th>\n",
       "      <th>payment_sequential</th>\n",
       "      <th>payment_type</th>\n",
       "      <th>payment_installments</th>\n",
       "      <th>payment_value</th>\n",
       "    </tr>\n",
       "  </thead>\n",
       "  <tbody>\n",
       "    <tr>\n",
       "      <th>9224</th>\n",
       "      <td>7ffb2f75de37b73b297a0923735af96a</td>\n",
       "      <td>1</td>\n",
       "      <td>credit_card</td>\n",
       "      <td>1</td>\n",
       "      <td>53.48</td>\n",
       "    </tr>\n",
       "    <tr>\n",
       "      <th>7356</th>\n",
       "      <td>18898a06fcd1e440c28bd18943ea0e92</td>\n",
       "      <td>1</td>\n",
       "      <td>credit_card</td>\n",
       "      <td>2</td>\n",
       "      <td>132.46</td>\n",
       "    </tr>\n",
       "    <tr>\n",
       "      <th>8820</th>\n",
       "      <td>591083bc42b589c7052118aa83118e76</td>\n",
       "      <td>3</td>\n",
       "      <td>voucher</td>\n",
       "      <td>1</td>\n",
       "      <td>20.00</td>\n",
       "    </tr>\n",
       "  </tbody>\n",
       "</table>\n",
       "</div>"
      ],
      "text/plain": [
       "                              order_id  payment_sequential payment_type  \\\n",
       "9224  7ffb2f75de37b73b297a0923735af96a                   1  credit_card   \n",
       "7356  18898a06fcd1e440c28bd18943ea0e92                   1  credit_card   \n",
       "8820  591083bc42b589c7052118aa83118e76                   3      voucher   \n",
       "\n",
       "      payment_installments  payment_value  \n",
       "9224                     1          53.48  \n",
       "7356                     2         132.46  \n",
       "8820                     1          20.00  "
      ]
     },
     "execution_count": 59,
     "metadata": {},
     "output_type": "execute_result"
    }
   ],
   "source": [
    "data_payments = pd.read_csv('./data/olist_order_payments_dataset.csv')\n",
    "data_payments = data_payments.iloc[0:10000,:]\n",
    "print(data_payments.shape)\n",
    "data_payments.sample(3)"
   ]
  },
  {
   "cell_type": "code",
   "execution_count": 60,
   "metadata": {},
   "outputs": [
    {
     "name": "stdout",
     "output_type": "stream",
     "text": [
      "(10000, 7)\n"
     ]
    },
    {
     "data": {
      "text/html": [
       "<div>\n",
       "<style scoped>\n",
       "    .dataframe tbody tr th:only-of-type {\n",
       "        vertical-align: middle;\n",
       "    }\n",
       "\n",
       "    .dataframe tbody tr th {\n",
       "        vertical-align: top;\n",
       "    }\n",
       "\n",
       "    .dataframe thead th {\n",
       "        text-align: right;\n",
       "    }\n",
       "</style>\n",
       "<table border=\"1\" class=\"dataframe\">\n",
       "  <thead>\n",
       "    <tr style=\"text-align: right;\">\n",
       "      <th></th>\n",
       "      <th>review_id</th>\n",
       "      <th>order_id</th>\n",
       "      <th>review_score</th>\n",
       "      <th>review_comment_title</th>\n",
       "      <th>review_comment_message</th>\n",
       "      <th>review_creation_date</th>\n",
       "      <th>review_answer_timestamp</th>\n",
       "    </tr>\n",
       "  </thead>\n",
       "  <tbody>\n",
       "    <tr>\n",
       "      <th>4919</th>\n",
       "      <td>19d1973c6952f3934124f06fb57fff34</td>\n",
       "      <td>1fde32a510f950891c57d6e69c9071bd</td>\n",
       "      <td>5</td>\n",
       "      <td>Excelente</td>\n",
       "      <td>Satisfeita com o produto</td>\n",
       "      <td>2018-07-24 00:00:00</td>\n",
       "      <td>2018-07-27 20:15:42</td>\n",
       "    </tr>\n",
       "    <tr>\n",
       "      <th>6965</th>\n",
       "      <td>eb0a5e66d996050334014587b1c8699c</td>\n",
       "      <td>04bc36cd51141e11c2cbbd188b6e47ca</td>\n",
       "      <td>5</td>\n",
       "      <td>NaN</td>\n",
       "      <td>NaN</td>\n",
       "      <td>2016-10-21 00:00:00</td>\n",
       "      <td>2016-10-22 00:14:57</td>\n",
       "    </tr>\n",
       "    <tr>\n",
       "      <th>2103</th>\n",
       "      <td>3975077f30c1f99bd699ff192885378b</td>\n",
       "      <td>a4763f72a6a9ff012d96a0e2b4d4b1ea</td>\n",
       "      <td>5</td>\n",
       "      <td>NaN</td>\n",
       "      <td>NaN</td>\n",
       "      <td>2018-05-20 00:00:00</td>\n",
       "      <td>2018-05-20 13:56:22</td>\n",
       "    </tr>\n",
       "  </tbody>\n",
       "</table>\n",
       "</div>"
      ],
      "text/plain": [
       "                             review_id                          order_id  \\\n",
       "4919  19d1973c6952f3934124f06fb57fff34  1fde32a510f950891c57d6e69c9071bd   \n",
       "6965  eb0a5e66d996050334014587b1c8699c  04bc36cd51141e11c2cbbd188b6e47ca   \n",
       "2103  3975077f30c1f99bd699ff192885378b  a4763f72a6a9ff012d96a0e2b4d4b1ea   \n",
       "\n",
       "      review_score review_comment_title     review_comment_message  \\\n",
       "4919             5           Excelente   Satisfeita com o produto    \n",
       "6965             5                  NaN                        NaN   \n",
       "2103             5                  NaN                        NaN   \n",
       "\n",
       "     review_creation_date review_answer_timestamp  \n",
       "4919  2018-07-24 00:00:00     2018-07-27 20:15:42  \n",
       "6965  2016-10-21 00:00:00     2016-10-22 00:14:57  \n",
       "2103  2018-05-20 00:00:00     2018-05-20 13:56:22  "
      ]
     },
     "execution_count": 60,
     "metadata": {},
     "output_type": "execute_result"
    }
   ],
   "source": [
    "data_reviews = pd.read_csv('./data/olist_order_reviews_dataset.csv')\n",
    "data_reviews = data_reviews.iloc[0:10000,:]\n",
    "print(data_reviews.shape)\n",
    "data_reviews.sample(3)"
   ]
  },
  {
   "cell_type": "code",
   "execution_count": 61,
   "metadata": {},
   "outputs": [
    {
     "name": "stdout",
     "output_type": "stream",
     "text": [
      "(10000, 8)\n"
     ]
    },
    {
     "data": {
      "text/html": [
       "<div>\n",
       "<style scoped>\n",
       "    .dataframe tbody tr th:only-of-type {\n",
       "        vertical-align: middle;\n",
       "    }\n",
       "\n",
       "    .dataframe tbody tr th {\n",
       "        vertical-align: top;\n",
       "    }\n",
       "\n",
       "    .dataframe thead th {\n",
       "        text-align: right;\n",
       "    }\n",
       "</style>\n",
       "<table border=\"1\" class=\"dataframe\">\n",
       "  <thead>\n",
       "    <tr style=\"text-align: right;\">\n",
       "      <th></th>\n",
       "      <th>order_id</th>\n",
       "      <th>customer_id</th>\n",
       "      <th>order_status</th>\n",
       "      <th>order_purchase_timestamp</th>\n",
       "      <th>order_approved_at</th>\n",
       "      <th>order_delivered_carrier_date</th>\n",
       "      <th>order_delivered_customer_date</th>\n",
       "      <th>order_estimated_delivery_date</th>\n",
       "    </tr>\n",
       "  </thead>\n",
       "  <tbody>\n",
       "    <tr>\n",
       "      <th>9794</th>\n",
       "      <td>09023a853a37b3ccb3ca46372068748b</td>\n",
       "      <td>2c197ea326b24a3dd7ae5cd7febd4599</td>\n",
       "      <td>delivered</td>\n",
       "      <td>2018-01-30 15:40:06</td>\n",
       "      <td>2018-01-30 15:55:31</td>\n",
       "      <td>2018-02-05 16:32:08</td>\n",
       "      <td>2018-02-21 17:38:05</td>\n",
       "      <td>2018-02-26 00:00:00</td>\n",
       "    </tr>\n",
       "    <tr>\n",
       "      <th>2497</th>\n",
       "      <td>a472cc850b21b27f04a2b80546d3910e</td>\n",
       "      <td>eafcc7bf051b9d56a2b9e428a43b6ce6</td>\n",
       "      <td>delivered</td>\n",
       "      <td>2017-12-06 17:39:09</td>\n",
       "      <td>2017-12-06 17:52:56</td>\n",
       "      <td>2017-12-07 17:27:49</td>\n",
       "      <td>2017-12-11 23:10:00</td>\n",
       "      <td>2018-01-03 00:00:00</td>\n",
       "    </tr>\n",
       "    <tr>\n",
       "      <th>2330</th>\n",
       "      <td>f1170c260d0d021017645fd94d65d78b</td>\n",
       "      <td>a86b68dd9da561c8b4cf830e2f0f47a3</td>\n",
       "      <td>delivered</td>\n",
       "      <td>2017-02-24 11:24:17</td>\n",
       "      <td>2017-02-24 15:10:17</td>\n",
       "      <td>2017-03-08 14:52:04</td>\n",
       "      <td>2017-03-16 14:33:08</td>\n",
       "      <td>2017-03-27 00:00:00</td>\n",
       "    </tr>\n",
       "  </tbody>\n",
       "</table>\n",
       "</div>"
      ],
      "text/plain": [
       "                              order_id                       customer_id  \\\n",
       "9794  09023a853a37b3ccb3ca46372068748b  2c197ea326b24a3dd7ae5cd7febd4599   \n",
       "2497  a472cc850b21b27f04a2b80546d3910e  eafcc7bf051b9d56a2b9e428a43b6ce6   \n",
       "2330  f1170c260d0d021017645fd94d65d78b  a86b68dd9da561c8b4cf830e2f0f47a3   \n",
       "\n",
       "     order_status order_purchase_timestamp    order_approved_at  \\\n",
       "9794    delivered      2018-01-30 15:40:06  2018-01-30 15:55:31   \n",
       "2497    delivered      2017-12-06 17:39:09  2017-12-06 17:52:56   \n",
       "2330    delivered      2017-02-24 11:24:17  2017-02-24 15:10:17   \n",
       "\n",
       "     order_delivered_carrier_date order_delivered_customer_date  \\\n",
       "9794          2018-02-05 16:32:08           2018-02-21 17:38:05   \n",
       "2497          2017-12-07 17:27:49           2017-12-11 23:10:00   \n",
       "2330          2017-03-08 14:52:04           2017-03-16 14:33:08   \n",
       "\n",
       "     order_estimated_delivery_date  \n",
       "9794           2018-02-26 00:00:00  \n",
       "2497           2018-01-03 00:00:00  \n",
       "2330           2017-03-27 00:00:00  "
      ]
     },
     "execution_count": 61,
     "metadata": {},
     "output_type": "execute_result"
    }
   ],
   "source": [
    "data_orders = pd.read_csv('./data/olist_orders_dataset.csv')\n",
    "data_orders = data_orders.iloc[0:10000,:]\n",
    "print(data_orders.shape)\n",
    "data_orders.sample(3)"
   ]
  },
  {
   "cell_type": "code",
   "execution_count": 62,
   "metadata": {},
   "outputs": [
    {
     "name": "stdout",
     "output_type": "stream",
     "text": [
      "(10000, 9)\n"
     ]
    },
    {
     "data": {
      "text/html": [
       "<div>\n",
       "<style scoped>\n",
       "    .dataframe tbody tr th:only-of-type {\n",
       "        vertical-align: middle;\n",
       "    }\n",
       "\n",
       "    .dataframe tbody tr th {\n",
       "        vertical-align: top;\n",
       "    }\n",
       "\n",
       "    .dataframe thead th {\n",
       "        text-align: right;\n",
       "    }\n",
       "</style>\n",
       "<table border=\"1\" class=\"dataframe\">\n",
       "  <thead>\n",
       "    <tr style=\"text-align: right;\">\n",
       "      <th></th>\n",
       "      <th>product_id</th>\n",
       "      <th>product_category_name</th>\n",
       "      <th>product_name_lenght</th>\n",
       "      <th>product_description_lenght</th>\n",
       "      <th>product_photos_qty</th>\n",
       "      <th>product_weight_g</th>\n",
       "      <th>product_length_cm</th>\n",
       "      <th>product_height_cm</th>\n",
       "      <th>product_width_cm</th>\n",
       "    </tr>\n",
       "  </thead>\n",
       "  <tbody>\n",
       "    <tr>\n",
       "      <th>8403</th>\n",
       "      <td>ddb282389fb7c7594479b90a76e4d884</td>\n",
       "      <td>moveis_decoracao</td>\n",
       "      <td>46.0</td>\n",
       "      <td>2025.0</td>\n",
       "      <td>2.0</td>\n",
       "      <td>600.0</td>\n",
       "      <td>65.0</td>\n",
       "      <td>11.0</td>\n",
       "      <td>13.0</td>\n",
       "    </tr>\n",
       "    <tr>\n",
       "      <th>9830</th>\n",
       "      <td>fdad129d8e902058f98862f23dcf6978</td>\n",
       "      <td>informatica_acessorios</td>\n",
       "      <td>35.0</td>\n",
       "      <td>1101.0</td>\n",
       "      <td>2.0</td>\n",
       "      <td>250.0</td>\n",
       "      <td>42.0</td>\n",
       "      <td>2.0</td>\n",
       "      <td>30.0</td>\n",
       "    </tr>\n",
       "    <tr>\n",
       "      <th>5802</th>\n",
       "      <td>b5500cdcf54793ca1dfbd654bdfbc20a</td>\n",
       "      <td>beleza_saude</td>\n",
       "      <td>50.0</td>\n",
       "      <td>826.0</td>\n",
       "      <td>1.0</td>\n",
       "      <td>350.0</td>\n",
       "      <td>25.0</td>\n",
       "      <td>12.0</td>\n",
       "      <td>19.0</td>\n",
       "    </tr>\n",
       "  </tbody>\n",
       "</table>\n",
       "</div>"
      ],
      "text/plain": [
       "                            product_id   product_category_name  \\\n",
       "8403  ddb282389fb7c7594479b90a76e4d884        moveis_decoracao   \n",
       "9830  fdad129d8e902058f98862f23dcf6978  informatica_acessorios   \n",
       "5802  b5500cdcf54793ca1dfbd654bdfbc20a            beleza_saude   \n",
       "\n",
       "      product_name_lenght  product_description_lenght  product_photos_qty  \\\n",
       "8403                 46.0                      2025.0                 2.0   \n",
       "9830                 35.0                      1101.0                 2.0   \n",
       "5802                 50.0                       826.0                 1.0   \n",
       "\n",
       "      product_weight_g  product_length_cm  product_height_cm  product_width_cm  \n",
       "8403             600.0               65.0               11.0              13.0  \n",
       "9830             250.0               42.0                2.0              30.0  \n",
       "5802             350.0               25.0               12.0              19.0  "
      ]
     },
     "execution_count": 62,
     "metadata": {},
     "output_type": "execute_result"
    }
   ],
   "source": [
    "data_products = pd.read_csv('./data/olist_products_dataset.csv')\n",
    "data_products = data_products.iloc[0:10000,:]\n",
    "print(data_products.shape)\n",
    "data_products.sample(3)"
   ]
  },
  {
   "cell_type": "code",
   "execution_count": 63,
   "metadata": {},
   "outputs": [
    {
     "name": "stdout",
     "output_type": "stream",
     "text": [
      "(3095, 4)\n"
     ]
    },
    {
     "data": {
      "text/html": [
       "<div>\n",
       "<style scoped>\n",
       "    .dataframe tbody tr th:only-of-type {\n",
       "        vertical-align: middle;\n",
       "    }\n",
       "\n",
       "    .dataframe tbody tr th {\n",
       "        vertical-align: top;\n",
       "    }\n",
       "\n",
       "    .dataframe thead th {\n",
       "        text-align: right;\n",
       "    }\n",
       "</style>\n",
       "<table border=\"1\" class=\"dataframe\">\n",
       "  <thead>\n",
       "    <tr style=\"text-align: right;\">\n",
       "      <th></th>\n",
       "      <th>seller_id</th>\n",
       "      <th>seller_zip_code_prefix</th>\n",
       "      <th>seller_city</th>\n",
       "      <th>seller_state</th>\n",
       "    </tr>\n",
       "  </thead>\n",
       "  <tbody>\n",
       "    <tr>\n",
       "      <th>1723</th>\n",
       "      <td>8dfbc5ff27df12f6cef751d3b9554222</td>\n",
       "      <td>80220</td>\n",
       "      <td>curitiba</td>\n",
       "      <td>PR</td>\n",
       "    </tr>\n",
       "    <tr>\n",
       "      <th>1814</th>\n",
       "      <td>da4d149c0ddbac90557103ac0a0ec356</td>\n",
       "      <td>9861</td>\n",
       "      <td>sbc</td>\n",
       "      <td>SP</td>\n",
       "    </tr>\n",
       "    <tr>\n",
       "      <th>953</th>\n",
       "      <td>bcd2d7510d58e293f20fad6438c1b314</td>\n",
       "      <td>81540</td>\n",
       "      <td>curitiba</td>\n",
       "      <td>PR</td>\n",
       "    </tr>\n",
       "  </tbody>\n",
       "</table>\n",
       "</div>"
      ],
      "text/plain": [
       "                             seller_id  seller_zip_code_prefix seller_city  \\\n",
       "1723  8dfbc5ff27df12f6cef751d3b9554222                   80220    curitiba   \n",
       "1814  da4d149c0ddbac90557103ac0a0ec356                    9861         sbc   \n",
       "953   bcd2d7510d58e293f20fad6438c1b314                   81540    curitiba   \n",
       "\n",
       "     seller_state  \n",
       "1723           PR  \n",
       "1814           SP  \n",
       "953            PR  "
      ]
     },
     "execution_count": 63,
     "metadata": {},
     "output_type": "execute_result"
    }
   ],
   "source": [
    "data_sellers = pd.read_csv('./data/olist_sellers_dataset.csv')\n",
    "print(data_sellers.shape)\n",
    "data_sellers.sample(3)"
   ]
  },
  {
   "cell_type": "code",
   "execution_count": 64,
   "metadata": {},
   "outputs": [
    {
     "name": "stdout",
     "output_type": "stream",
     "text": [
      "(71, 2)\n"
     ]
    },
    {
     "data": {
      "text/html": [
       "<div>\n",
       "<style scoped>\n",
       "    .dataframe tbody tr th:only-of-type {\n",
       "        vertical-align: middle;\n",
       "    }\n",
       "\n",
       "    .dataframe tbody tr th {\n",
       "        vertical-align: top;\n",
       "    }\n",
       "\n",
       "    .dataframe thead th {\n",
       "        text-align: right;\n",
       "    }\n",
       "</style>\n",
       "<table border=\"1\" class=\"dataframe\">\n",
       "  <thead>\n",
       "    <tr style=\"text-align: right;\">\n",
       "      <th></th>\n",
       "      <th>product_category_name</th>\n",
       "      <th>product_category_name_english</th>\n",
       "    </tr>\n",
       "  </thead>\n",
       "  <tbody>\n",
       "    <tr>\n",
       "      <th>61</th>\n",
       "      <td>musica</td>\n",
       "      <td>music</td>\n",
       "    </tr>\n",
       "    <tr>\n",
       "      <th>33</th>\n",
       "      <td>eletrodomesticos</td>\n",
       "      <td>home_appliances</td>\n",
       "    </tr>\n",
       "    <tr>\n",
       "      <th>39</th>\n",
       "      <td>livros_tecnicos</td>\n",
       "      <td>books_technical</td>\n",
       "    </tr>\n",
       "  </tbody>\n",
       "</table>\n",
       "</div>"
      ],
      "text/plain": [
       "   product_category_name product_category_name_english\n",
       "61                musica                         music\n",
       "33      eletrodomesticos               home_appliances\n",
       "39       livros_tecnicos               books_technical"
      ]
     },
     "execution_count": 64,
     "metadata": {},
     "output_type": "execute_result"
    }
   ],
   "source": [
    "data_product_category = pd.read_csv('./data/product_category_name_translation.csv')\n",
    "print(data_product_category.shape)\n",
    "data_product_category.sample(3)"
   ]
  },
  {
   "cell_type": "markdown",
   "metadata": {},
   "source": [
    "the relation with tables is given by the next erd (Entity Relationship Diagram).\n",
    "\n",
    "<img src=\"./img/entity_relationship_diagram.png\">"
   ]
  },
  {
   "cell_type": "code",
   "execution_count": 65,
   "metadata": {},
   "outputs": [
    {
     "name": "stdout",
     "output_type": "stream",
     "text": [
      "DataBase created name - \"data_modeling\"\n"
     ]
    }
   ],
   "source": [
    "\n",
    "# We crate database with the defined function obtain connection and cursor to execute queries.\n",
    "conn, cur = create_database()"
   ]
  },
  {
   "cell_type": "markdown",
   "metadata": {},
   "source": [
    "<img src=\"./img/tables.png\">"
   ]
  },
  {
   "cell_type": "code",
   "execution_count": 66,
   "metadata": {},
   "outputs": [],
   "source": [
    "# Now we add the data from datasets to our tables, that we created in the previous step.\n",
    "insert_query = ('''INSERT INTO customer(\n",
    "    customer_id,\n",
    "    customer_unique_id,\n",
    "    customer_zip_code_prefix,\n",
    "    customer_city,\n",
    "    customer_state)\n",
    "    VALUES (%s, %s, %s, %s, %s)''')\n",
    "for i, row in data_customers.iterrows():\n",
    "    cur.execute(insert_query, list(row))"
   ]
  },
  {
   "cell_type": "markdown",
   "metadata": {},
   "source": [
    "<img src=\"./img/customer_table.png\">"
   ]
  },
  {
   "cell_type": "code",
   "execution_count": 67,
   "metadata": {},
   "outputs": [],
   "source": [
    "insert_query = ('''INSERT INTO geolocation(\n",
    "    geolocation_zip_code_prefix,\n",
    "    geolocation_lat,\n",
    "    geolocation_lng,\n",
    "    geolocation_city,\n",
    "    geolocation_state)\n",
    "    VALUES (%s, %s, %s, %s, %s)''')\n",
    "for i, row in data_geolocation.iterrows():\n",
    "    cur.execute(insert_query, list(row))"
   ]
  },
  {
   "cell_type": "markdown",
   "metadata": {},
   "source": [
    "<img src=\"./img/geolocation_table.png\">"
   ]
  },
  {
   "cell_type": "code",
   "execution_count": 68,
   "metadata": {},
   "outputs": [],
   "source": [
    "insert_query = ('''INSERT INTO order_items(\n",
    "    order_id,\n",
    "    order_item_id,\n",
    "    product_id,\n",
    "    seller_id,\n",
    "    shipping_limit_date,\n",
    "    price,\n",
    "    freight_value)\n",
    "    VALUES (%s, %s, %s, %s, %s, %s, %s)''')\n",
    "for i, row in data_order_items.iterrows():\n",
    "    cur.execute(insert_query, list(row))"
   ]
  },
  {
   "cell_type": "markdown",
   "metadata": {},
   "source": [
    "<img src=\"./img/order_items_table.png\">"
   ]
  },
  {
   "cell_type": "code",
   "execution_count": 69,
   "metadata": {},
   "outputs": [],
   "source": [
    "insert_query = ('''INSERT INTO payments(\n",
    "    order_id,\n",
    "    payment_sequential,\n",
    "    payment_type,\n",
    "    payment_installments,\n",
    "    payment_value)\n",
    "    VALUES (%s, %s, %s, %s, %s)''')\n",
    "for i, row in data_payments.iterrows():\n",
    "    cur.execute(insert_query, list(row))"
   ]
  },
  {
   "cell_type": "markdown",
   "metadata": {},
   "source": [
    "<img src=\"./img/payments_table.png\">"
   ]
  },
  {
   "cell_type": "code",
   "execution_count": 70,
   "metadata": {},
   "outputs": [],
   "source": [
    "insert_query = ('''INSERT INTO reviews(\n",
    "    review_id,\n",
    "    order_id,\n",
    "    review_score,\n",
    "    review_comment_title,\n",
    "    review_comment_message,\n",
    "    review_creation_date,\n",
    "    review_answer_timestamp)\n",
    "    VALUES (%s, %s, %s, %s, %s, %s, %s)''')\n",
    "for i, row in data_reviews.iterrows():\n",
    "    cur.execute(insert_query, list(row))"
   ]
  },
  {
   "cell_type": "markdown",
   "metadata": {},
   "source": [
    "<img src=\"./img/reviews_table.png\">"
   ]
  },
  {
   "cell_type": "code",
   "execution_count": 71,
   "metadata": {},
   "outputs": [],
   "source": [
    "insert_query = ('''INSERT INTO orders(\n",
    "    order_id,\n",
    "    customer_id,\n",
    "    order_status,\n",
    "    order_purchase_timestamp,\n",
    "    order_approved_at,\n",
    "    order_delivered_carrier_date,\n",
    "    order_delivered_customer_date,\n",
    "    order_estimated_delivery_date)\n",
    "    VALUES (%s, %s, %s, %s, %s, %s, %s, %s)''')\n",
    "for i, row in data_orders.iterrows():\n",
    "    cur.execute(insert_query, list(row))"
   ]
  },
  {
   "cell_type": "markdown",
   "metadata": {},
   "source": [
    "<img src=\"./img/orders_table.png\">"
   ]
  },
  {
   "cell_type": "code",
   "execution_count": 72,
   "metadata": {},
   "outputs": [],
   "source": [
    "insert_query = ('''INSERT INTO products(\n",
    "    product_id,\n",
    "    product_category_name,\n",
    "    product_name_lenght,\n",
    "    product_description_lenght,\n",
    "    product_photos_qty,\n",
    "    product_weight_g,\n",
    "    product_length_cm,\n",
    "    product_height_cm,\n",
    "    product_width_cm)\n",
    "    VALUES (%s, %s, %s, %s, %s, %s, %s, %s, %s)''')\n",
    "for i, row in data_products.iterrows():\n",
    "    cur.execute(insert_query, list(row))"
   ]
  },
  {
   "cell_type": "markdown",
   "metadata": {},
   "source": [
    "<img src=\"./img/products_table.png\">"
   ]
  },
  {
   "cell_type": "code",
   "execution_count": 73,
   "metadata": {},
   "outputs": [],
   "source": [
    "insert_query = ('''INSERT INTO sellers(\n",
    "    seller_id,\n",
    "    seller_zip_code_prefix,\n",
    "    seller_city,\n",
    "    seller_state)\n",
    "    VALUES (%s, %s, %s, %s)''')\n",
    "for i, row in data_sellers.iterrows():\n",
    "    cur.execute(insert_query, list(row))"
   ]
  },
  {
   "cell_type": "markdown",
   "metadata": {},
   "source": [
    "<img src=\"./img/sellers_table.png\">"
   ]
  },
  {
   "cell_type": "code",
   "execution_count": 74,
   "metadata": {},
   "outputs": [],
   "source": [
    "insert_query = ('''INSERT INTO product_category(\n",
    "    product_category_name,\n",
    "    product_category_name_english)\n",
    "    VALUES (%s, %s)''')\n",
    "for i, row in data_product_category.iterrows():\n",
    "    cur.execute(insert_query, list(row))"
   ]
  },
  {
   "cell_type": "markdown",
   "metadata": {},
   "source": [
    "<img src=\"./img/product_category_table.png\">"
   ]
  },
  {
   "cell_type": "code",
   "execution_count": 75,
   "metadata": {},
   "outputs": [],
   "source": [
    "# Closing connection.\n",
    "conn.close()\n",
    "cur.close()"
   ]
  },
  {
   "cell_type": "markdown",
   "metadata": {},
   "source": [
    "# Blibliography\n",
    "\n",
    "- https://www.postgresqltutorial.com/\n",
    "- https://launchschool.com/books/sql_first_edition\n",
    "- https://launchschool.com/books/sql"
   ]
  },
  {
   "cell_type": "markdown",
   "metadata": {},
   "source": []
  }
 ],
 "metadata": {
  "kernelspec": {
   "display_name": "Python 3.8.13 ('dhdsblend2021')",
   "language": "python",
   "name": "python3"
  },
  "language_info": {
   "codemirror_mode": {
    "name": "ipython",
    "version": 3
   },
   "file_extension": ".py",
   "mimetype": "text/x-python",
   "name": "python",
   "nbconvert_exporter": "python",
   "pygments_lexer": "ipython3",
   "version": "3.8.13"
  },
  "orig_nbformat": 4,
  "vscode": {
   "interpreter": {
    "hash": "9689ec58c8207ae0e5df44f3c0da8809222a7a4816f0f8cce8ef27c7a9266816"
   }
  }
 },
 "nbformat": 4,
 "nbformat_minor": 2
}
